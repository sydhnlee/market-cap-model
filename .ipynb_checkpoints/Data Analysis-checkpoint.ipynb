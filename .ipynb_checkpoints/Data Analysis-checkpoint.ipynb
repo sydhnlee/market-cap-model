{
 "cells": [
  {
   "cell_type": "markdown",
   "metadata": {
    "id": "7zeSHVRDdalz"
   },
   "source": [
    "# Initialization "
   ]
  },
  {
   "cell_type": "code",
   "execution_count": null,
   "metadata": {
    "colab": {
     "base_uri": "https://localhost:8080/"
    },
    "id": "oBdeoX0c58-f",
    "outputId": "f7dfb25f-3078-43b4-bb80-a60f5ce6a35b"
   },
   "outputs": [
    {
     "name": "stderr",
     "output_type": "stream",
     "text": [
      "/usr/local/lib/python3.7/dist-packages/statsmodels/tools/_testing.py:19: FutureWarning: pandas.util.testing is deprecated. Use the functions in the public API at pandas.testing instead.\n",
      "  import pandas.util.testing as tm\n"
     ]
    }
   ],
   "source": [
    "import pandas as pd\n",
    "import numpy as np\n",
    "import matplotlib.pyplot as plt\n",
    "\n",
    "\n",
    "##### IMPORT ALL USED LIBRARIES HERE TO AVOID REDUNDANCY\n",
    "\n",
    "### Random Forests ###\n",
    "from sklearn.model_selection import train_test_split\n",
    "from sklearn.ensemble import RandomForestRegressor\n",
    "\n",
    "### Linear Regression ###\n",
    "import statsmodels.formula.api as smf\n",
    "import statsmodels.api as sm\n",
    "from statsmodels.stats.outliers_influence import variance_inflation_factor\n",
    "from sklearn.linear_model import LinearRegression\n",
    "\n",
    "### CART ###\n",
    "from sklearn.tree import DecisionTreeRegressor\n",
    "from sklearn.model_selection import GridSearchCV\n",
    "from sklearn.model_selection import KFold"
   ]
  },
  {
   "cell_type": "code",
   "execution_count": null,
   "metadata": {
    "id": "2-F5cWOCnZrr"
   },
   "outputs": [],
   "source": [
    "def OSR2(model, X_test, y_test, y_train):\n",
    "    y_pred = model.predict(X_test)\n",
    "    SSE = np.sum((y_test - y_pred)**2)\n",
    "    SST = np.sum((y_test - np.mean(y_train))**2)\n",
    "    return (1 - SSE/SST)\n",
    "\n",
    "def OSR2_no_model(y_pred, y_test, y_train):\n",
    "    SSE = np.sum((y_test - y_pred)**2)\n",
    "    SST = np.sum((y_test - np.mean(y_train))**2)\n",
    "    return (1 - SSE/SST)\n",
    "\n",
    "def MSE(model, X_test, y_test, y_train):\n",
    "    y_pred = model.predict(X_test)\n",
    "    mse = np.mean((y_test-y_pred)**2)\n",
    "    return mse\n",
    "\n",
    "def MSE_no_model(y_pred, y_test):\n",
    "    mse = np.mean((y_test-y_pred)**2)\n",
    "    return mse\n",
    "\n",
    "def MAE(model, X_test, y_test, y_train):\n",
    "    y_pred = model.predict(X_test)\n",
    "    mae = np.mean(np.abs(y_test-y_pred))\n",
    "    return mae\n",
    "\n",
    "def MAE_no_model(y_pred, y_test):\n",
    "    mae = np.mean(np.abs(y_test-y_pred))\n",
    "    return mae\n",
    "\n",
    "def VIF(df, columns):\n",
    "    values = sm.add_constant(df[columns]).values\n",
    "    num_columns = len(columns)+1\n",
    "    vif = [variance_inflation_factor(values, i) for i in range(num_columns)]\n",
    "    return pd.Series(vif[1:], index=columns)\n",
    "\n",
    "# adapted from StackOverflow\n",
    "# https://stackoverflow.com/questions/62490392/how-to-apply-log-on-negative-values-based-upon-some-conditions-in-python\n",
    "def findlog(n):\n",
    "    if n > 0:\n",
    "        log = np.log(n)\n",
    "    elif n < 0:\n",
    "        log = -np.log(-n)\n",
    "    elif n == 0:\n",
    "        log = 0\n",
    "    return log"
   ]
  },
  {
   "cell_type": "markdown",
   "metadata": {
    "id": "YuHyJYNhd4w8"
   },
   "source": [
    "# Data Loading"
   ]
  },
  {
   "cell_type": "code",
   "execution_count": null,
   "metadata": {
    "colab": {
     "base_uri": "https://localhost:8080/",
     "height": 626
    },
    "id": "ZBiIsRCYv5Lh",
    "outputId": "b8cdb1a4-bc01-41dc-d1bc-3b6d0423e816"
   },
   "outputs": [
    {
     "data": {
      "text/html": [
       "<div>\n",
       "<style scoped>\n",
       "    .dataframe tbody tr th:only-of-type {\n",
       "        vertical-align: middle;\n",
       "    }\n",
       "\n",
       "    .dataframe tbody tr th {\n",
       "        vertical-align: top;\n",
       "    }\n",
       "\n",
       "    .dataframe thead th {\n",
       "        text-align: right;\n",
       "    }\n",
       "</style>\n",
       "<table border=\"1\" class=\"dataframe\">\n",
       "  <thead>\n",
       "    <tr style=\"text-align: right;\">\n",
       "      <th></th>\n",
       "      <th>Accession#</th>\n",
       "      <th>DataDate</th>\n",
       "      <th>CIK</th>\n",
       "      <th>Company</th>\n",
       "      <th>FiscalYear</th>\n",
       "      <th>Ticker</th>\n",
       "      <th>TotalAssets</th>\n",
       "      <th>ShortTermAssets</th>\n",
       "      <th>TotalLiabilities&amp;StockholderEquity</th>\n",
       "      <th>ShortTermLiabilities</th>\n",
       "      <th>NetIncome</th>\n",
       "      <th>OutstandingShares</th>\n",
       "      <th>MarketPrice(Monthavg.)</th>\n",
       "      <th>MarketCap</th>\n",
       "    </tr>\n",
       "  </thead>\n",
       "  <tbody>\n",
       "    <tr>\n",
       "      <th>0</th>\n",
       "      <td>0000950123-09-057827</td>\n",
       "      <td>2009-09-30</td>\n",
       "      <td>804328</td>\n",
       "      <td>QUALCOMM INC/DE</td>\n",
       "      <td>2009</td>\n",
       "      <td>QCOM</td>\n",
       "      <td>27445000000</td>\n",
       "      <td>12570000000</td>\n",
       "      <td>27445000000</td>\n",
       "      <td>2813000000</td>\n",
       "      <td>1592000000</td>\n",
       "      <td>1669000000</td>\n",
       "      <td>33.51</td>\n",
       "      <td>55928190000</td>\n",
       "    </tr>\n",
       "    <tr>\n",
       "      <th>1</th>\n",
       "      <td>0000950123-09-063897</td>\n",
       "      <td>2009-09-30</td>\n",
       "      <td>1024478</td>\n",
       "      <td>ROCKWELL AUTOMATION INC</td>\n",
       "      <td>2009</td>\n",
       "      <td>ROK</td>\n",
       "      <td>4305700000</td>\n",
       "      <td>2134800000</td>\n",
       "      <td>4305700000</td>\n",
       "      <td>947200000</td>\n",
       "      <td>220700000</td>\n",
       "      <td>141600000</td>\n",
       "      <td>33.31</td>\n",
       "      <td>4716696000</td>\n",
       "    </tr>\n",
       "    <tr>\n",
       "      <th>2</th>\n",
       "      <td>0000950123-09-064772</td>\n",
       "      <td>2009-09-30</td>\n",
       "      <td>829224</td>\n",
       "      <td>STARBUCKS CORP</td>\n",
       "      <td>2009</td>\n",
       "      <td>SBUX</td>\n",
       "      <td>5576800000</td>\n",
       "      <td>2035800000</td>\n",
       "      <td>5576800000</td>\n",
       "      <td>1581000000</td>\n",
       "      <td>390800000</td>\n",
       "      <td>742900000</td>\n",
       "      <td>8.24</td>\n",
       "      <td>6121496000</td>\n",
       "    </tr>\n",
       "    <tr>\n",
       "      <th>3</th>\n",
       "      <td>0000950123-09-066012</td>\n",
       "      <td>2009-09-30</td>\n",
       "      <td>1140859</td>\n",
       "      <td>AMERISOURCEBERGEN CORP</td>\n",
       "      <td>2009</td>\n",
       "      <td>ABC</td>\n",
       "      <td>13572740000</td>\n",
       "      <td>9953753000</td>\n",
       "      <td>13572740000</td>\n",
       "      <td>9479610000</td>\n",
       "      <td>503397000</td>\n",
       "      <td>287922263</td>\n",
       "      <td>18.11</td>\n",
       "      <td>5214272182</td>\n",
       "    </tr>\n",
       "    <tr>\n",
       "      <th>4</th>\n",
       "      <td>0000950123-09-066095</td>\n",
       "      <td>2009-09-30</td>\n",
       "      <td>2969</td>\n",
       "      <td>AIR PRODUCTS &amp; CHEMICALS INC /DE/</td>\n",
       "      <td>2009</td>\n",
       "      <td>APD</td>\n",
       "      <td>13029100000</td>\n",
       "      <td>2997800000</td>\n",
       "      <td>13029100000</td>\n",
       "      <td>2503600000</td>\n",
       "      <td>631300000</td>\n",
       "      <td>209900000</td>\n",
       "      <td>52.88</td>\n",
       "      <td>11099512000</td>\n",
       "    </tr>\n",
       "    <tr>\n",
       "      <th>...</th>\n",
       "      <td>...</td>\n",
       "      <td>...</td>\n",
       "      <td>...</td>\n",
       "      <td>...</td>\n",
       "      <td>...</td>\n",
       "      <td>...</td>\n",
       "      <td>...</td>\n",
       "      <td>...</td>\n",
       "      <td>...</td>\n",
       "      <td>...</td>\n",
       "      <td>...</td>\n",
       "      <td>...</td>\n",
       "      <td>...</td>\n",
       "      <td>...</td>\n",
       "    </tr>\n",
       "    <tr>\n",
       "      <th>23421</th>\n",
       "      <td>0001819790-21-000010</td>\n",
       "      <td>2020-12-31</td>\n",
       "      <td>1819790</td>\n",
       "      <td>TARSUS PHARMACEUTICALS, INC.</td>\n",
       "      <td>2020</td>\n",
       "      <td>TARS</td>\n",
       "      <td>171972000</td>\n",
       "      <td>170655000</td>\n",
       "      <td>171972000</td>\n",
       "      <td>5387000</td>\n",
       "      <td>-26811000</td>\n",
       "      <td>20323201</td>\n",
       "      <td>36.89</td>\n",
       "      <td>749722884</td>\n",
       "    </tr>\n",
       "    <tr>\n",
       "      <th>23422</th>\n",
       "      <td>0001820721-21-000009</td>\n",
       "      <td>2020-12-31</td>\n",
       "      <td>1820721</td>\n",
       "      <td>ARRAY TECHNOLOGIES, INC.</td>\n",
       "      <td>2020</td>\n",
       "      <td>ARRY</td>\n",
       "      <td>656024000</td>\n",
       "      <td>375175000</td>\n",
       "      <td>656024000</td>\n",
       "      <td>289103000</td>\n",
       "      <td>59073000</td>\n",
       "      <td>121467000</td>\n",
       "      <td>39.89</td>\n",
       "      <td>4845318630</td>\n",
       "    </tr>\n",
       "    <tr>\n",
       "      <th>23423</th>\n",
       "      <td>0001829126-21-001412</td>\n",
       "      <td>2020-12-31</td>\n",
       "      <td>1341766</td>\n",
       "      <td>CELSIUS HOLDINGS, INC.</td>\n",
       "      <td>2020</td>\n",
       "      <td>CELH</td>\n",
       "      <td>131289773</td>\n",
       "      <td>93150665</td>\n",
       "      <td>131289773</td>\n",
       "      <td>26365092</td>\n",
       "      <td>8523849</td>\n",
       "      <td>72262829</td>\n",
       "      <td>39.22</td>\n",
       "      <td>2834148153</td>\n",
       "    </tr>\n",
       "    <tr>\n",
       "      <th>23424</th>\n",
       "      <td>0001829126-21-001487</td>\n",
       "      <td>2020-11-30</td>\n",
       "      <td>1813603</td>\n",
       "      <td>HESTIA INSIGHT INC.</td>\n",
       "      <td>2020</td>\n",
       "      <td>HSTA</td>\n",
       "      <td>12110718</td>\n",
       "      <td>12088765</td>\n",
       "      <td>12110718</td>\n",
       "      <td>24730</td>\n",
       "      <td>11524462</td>\n",
       "      <td>27910200</td>\n",
       "      <td>9.00</td>\n",
       "      <td>251191800</td>\n",
       "    </tr>\n",
       "    <tr>\n",
       "      <th>23425</th>\n",
       "      <td>0001829126-21-002058</td>\n",
       "      <td>2020-12-31</td>\n",
       "      <td>1421204</td>\n",
       "      <td>INSPYR THERAPEUTICS, INC.</td>\n",
       "      <td>2020</td>\n",
       "      <td>NSPX</td>\n",
       "      <td>404000</td>\n",
       "      <td>404000</td>\n",
       "      <td>404000</td>\n",
       "      <td>12907000</td>\n",
       "      <td>-6295000</td>\n",
       "      <td>185625000</td>\n",
       "      <td>0.01</td>\n",
       "      <td>1856250</td>\n",
       "    </tr>\n",
       "  </tbody>\n",
       "</table>\n",
       "<p>23426 rows × 14 columns</p>\n",
       "</div>"
      ],
      "text/plain": [
       "                 Accession#    DataDate  ...  MarketPrice(Monthavg.)    MarketCap\n",
       "0      0000950123-09-057827  2009-09-30  ...                   33.51  55928190000\n",
       "1      0000950123-09-063897  2009-09-30  ...                   33.31   4716696000\n",
       "2      0000950123-09-064772  2009-09-30  ...                    8.24   6121496000\n",
       "3      0000950123-09-066012  2009-09-30  ...                   18.11   5214272182\n",
       "4      0000950123-09-066095  2009-09-30  ...                   52.88  11099512000\n",
       "...                     ...         ...  ...                     ...          ...\n",
       "23421  0001819790-21-000010  2020-12-31  ...                   36.89    749722884\n",
       "23422  0001820721-21-000009  2020-12-31  ...                   39.89   4845318630\n",
       "23423  0001829126-21-001412  2020-12-31  ...                   39.22   2834148153\n",
       "23424  0001829126-21-001487  2020-11-30  ...                    9.00    251191800\n",
       "23425  0001829126-21-002058  2020-12-31  ...                    0.01      1856250\n",
       "\n",
       "[23426 rows x 14 columns]"
      ]
     },
     "execution_count": 4,
     "metadata": {
      "tags": []
     },
     "output_type": "execute_result"
    }
   ],
   "source": [
    "# reads data and removes whitespace from column names\n",
    "\n",
    "data_filename = \"clean_data.csv\"\n",
    "data = pd.read_csv(data_filename)\n",
    "data = data.rename(columns={col:col.replace(' ', '') for col in data.columns}) # removes whitespace from column names\n",
    "data"
   ]
  },
  {
   "cell_type": "markdown",
   "metadata": {
    "id": "6Ep299lpdwkp"
   },
   "source": [
    "# Creation of Log Data"
   ]
  },
  {
   "cell_type": "code",
   "execution_count": null,
   "metadata": {
    "colab": {
     "base_uri": "https://localhost:8080/",
     "height": 439
    },
    "id": "gSvfmEEf-DP9",
    "outputId": "c1a16c35-3371-454f-9f7d-9a70b2a0e48e"
   },
   "outputs": [
    {
     "data": {
      "text/html": [
       "<div>\n",
       "<style scoped>\n",
       "    .dataframe tbody tr th:only-of-type {\n",
       "        vertical-align: middle;\n",
       "    }\n",
       "\n",
       "    .dataframe tbody tr th {\n",
       "        vertical-align: top;\n",
       "    }\n",
       "\n",
       "    .dataframe thead th {\n",
       "        text-align: right;\n",
       "    }\n",
       "</style>\n",
       "<table border=\"1\" class=\"dataframe\">\n",
       "  <thead>\n",
       "    <tr style=\"text-align: right;\">\n",
       "      <th></th>\n",
       "      <th>MarketCap</th>\n",
       "      <th>TotalAssets</th>\n",
       "      <th>ShortTermAssets</th>\n",
       "      <th>TotalLiabilities&amp;StockholderEquity</th>\n",
       "      <th>ShortTermLiabilities</th>\n",
       "      <th>NetIncome</th>\n",
       "      <th>FiscalYear</th>\n",
       "    </tr>\n",
       "  </thead>\n",
       "  <tbody>\n",
       "    <tr>\n",
       "      <th>0</th>\n",
       "      <td>24.747334</td>\n",
       "      <td>24.035450</td>\n",
       "      <td>23.254579</td>\n",
       "      <td>24.035450</td>\n",
       "      <td>21.757517</td>\n",
       "      <td>21.188257</td>\n",
       "      <td>2009</td>\n",
       "    </tr>\n",
       "    <tr>\n",
       "      <th>1</th>\n",
       "      <td>22.274374</td>\n",
       "      <td>22.183206</td>\n",
       "      <td>21.481639</td>\n",
       "      <td>22.183206</td>\n",
       "      <td>20.669021</td>\n",
       "      <td>19.212315</td>\n",
       "      <td>2009</td>\n",
       "    </tr>\n",
       "    <tr>\n",
       "      <th>2</th>\n",
       "      <td>22.535072</td>\n",
       "      <td>22.441881</td>\n",
       "      <td>21.434155</td>\n",
       "      <td>22.441881</td>\n",
       "      <td>21.181323</td>\n",
       "      <td>19.783706</td>\n",
       "      <td>2009</td>\n",
       "    </tr>\n",
       "    <tr>\n",
       "      <th>3</th>\n",
       "      <td>22.374665</td>\n",
       "      <td>23.331329</td>\n",
       "      <td>23.021216</td>\n",
       "      <td>23.331329</td>\n",
       "      <td>22.972409</td>\n",
       "      <td>20.036890</td>\n",
       "      <td>2009</td>\n",
       "    </tr>\n",
       "    <tr>\n",
       "      <th>4</th>\n",
       "      <td>23.130167</td>\n",
       "      <td>23.290451</td>\n",
       "      <td>21.821145</td>\n",
       "      <td>23.290451</td>\n",
       "      <td>21.640996</td>\n",
       "      <td>20.263292</td>\n",
       "      <td>2009</td>\n",
       "    </tr>\n",
       "    <tr>\n",
       "      <th>...</th>\n",
       "      <td>...</td>\n",
       "      <td>...</td>\n",
       "      <td>...</td>\n",
       "      <td>...</td>\n",
       "      <td>...</td>\n",
       "      <td>...</td>\n",
       "      <td>...</td>\n",
       "    </tr>\n",
       "    <tr>\n",
       "      <th>23421</th>\n",
       "      <td>20.435214</td>\n",
       "      <td>18.962842</td>\n",
       "      <td>18.955155</td>\n",
       "      <td>18.962842</td>\n",
       "      <td>15.499499</td>\n",
       "      <td>-17.104323</td>\n",
       "      <td>2020</td>\n",
       "    </tr>\n",
       "    <tr>\n",
       "      <th>23422</th>\n",
       "      <td>22.301279</td>\n",
       "      <td>20.301708</td>\n",
       "      <td>19.742903</td>\n",
       "      <td>20.301708</td>\n",
       "      <td>19.482294</td>\n",
       "      <td>17.894285</td>\n",
       "      <td>2020</td>\n",
       "    </tr>\n",
       "    <tr>\n",
       "      <th>23423</th>\n",
       "      <td>21.765007</td>\n",
       "      <td>18.692917</td>\n",
       "      <td>18.349729</td>\n",
       "      <td>18.692917</td>\n",
       "      <td>17.087551</td>\n",
       "      <td>15.958379</td>\n",
       "      <td>2020</td>\n",
       "    </tr>\n",
       "    <tr>\n",
       "      <th>23424</th>\n",
       "      <td>19.341727</td>\n",
       "      <td>16.309601</td>\n",
       "      <td>16.307787</td>\n",
       "      <td>16.309601</td>\n",
       "      <td>10.115772</td>\n",
       "      <td>16.259982</td>\n",
       "      <td>2020</td>\n",
       "    </tr>\n",
       "    <tr>\n",
       "      <th>23425</th>\n",
       "      <td>14.434069</td>\n",
       "      <td>12.909170</td>\n",
       "      <td>12.909170</td>\n",
       "      <td>12.909170</td>\n",
       "      <td>16.373280</td>\n",
       "      <td>-15.655266</td>\n",
       "      <td>2020</td>\n",
       "    </tr>\n",
       "  </tbody>\n",
       "</table>\n",
       "<p>23426 rows × 7 columns</p>\n",
       "</div>"
      ],
      "text/plain": [
       "       MarketCap  TotalAssets  ...  NetIncome  FiscalYear\n",
       "0      24.747334    24.035450  ...  21.188257        2009\n",
       "1      22.274374    22.183206  ...  19.212315        2009\n",
       "2      22.535072    22.441881  ...  19.783706        2009\n",
       "3      22.374665    23.331329  ...  20.036890        2009\n",
       "4      23.130167    23.290451  ...  20.263292        2009\n",
       "...          ...          ...  ...        ...         ...\n",
       "23421  20.435214    18.962842  ... -17.104323        2020\n",
       "23422  22.301279    20.301708  ...  17.894285        2020\n",
       "23423  21.765007    18.692917  ...  15.958379        2020\n",
       "23424  19.341727    16.309601  ...  16.259982        2020\n",
       "23425  14.434069    12.909170  ... -15.655266        2020\n",
       "\n",
       "[23426 rows x 7 columns]"
      ]
     },
     "execution_count": 5,
     "metadata": {
      "tags": []
     },
     "output_type": "execute_result"
    }
   ],
   "source": [
    "#creates logdata DataFrame\n",
    "\n",
    "logdata = pd.DataFrame()\n",
    "log_columns = ['MarketCap', 'TotalAssets', 'ShortTermAssets', 'TotalLiabilities&StockholderEquity', 'ShortTermLiabilities', 'NetIncome']\n",
    "for col in log_columns:\n",
    "  logdata[col] = data[col].apply(findlog) # data appears exponential therefore decided natural log was best for linear estimation\n",
    "\n",
    "#need this for train/test split\n",
    "logdata['FiscalYear'] = data['FiscalYear']\n",
    "logdata"
   ]
  },
  {
   "cell_type": "code",
   "execution_count": null,
   "metadata": {
    "colab": {
     "base_uri": "https://localhost:8080/"
    },
    "id": "hJznTa-Y3q25",
    "outputId": "e9e8dc6c-33cc-4fff-cfb2-c0e355188002"
   },
   "outputs": [
    {
     "name": "stdout",
     "output_type": "stream",
     "text": [
      "<class 'pandas.core.frame.DataFrame'>\n",
      "RangeIndex: 23426 entries, 0 to 23425\n",
      "Data columns (total 7 columns):\n",
      " #   Column                              Non-Null Count  Dtype  \n",
      "---  ------                              --------------  -----  \n",
      " 0   MarketCap                           23426 non-null  float64\n",
      " 1   TotalAssets                         23426 non-null  float64\n",
      " 2   ShortTermAssets                     23426 non-null  float64\n",
      " 3   TotalLiabilities&StockholderEquity  23426 non-null  float64\n",
      " 4   ShortTermLiabilities                23426 non-null  float64\n",
      " 5   NetIncome                           23426 non-null  float64\n",
      " 6   FiscalYear                          23426 non-null  int64  \n",
      "dtypes: float64(6), int64(1)\n",
      "memory usage: 1.3 MB\n"
     ]
    }
   ],
   "source": [
    "logdata.info()"
   ]
  },
  {
   "cell_type": "markdown",
   "metadata": {
    "id": "piLN9czSd_TP"
   },
   "source": [
    "# VIF"
   ]
  },
  {
   "cell_type": "code",
   "execution_count": null,
   "metadata": {
    "colab": {
     "base_uri": "https://localhost:8080/"
    },
    "id": "DotQ8rtKH8jF",
    "outputId": "4a9f429c-71a1-4e8b-df4b-aebe547f0811"
   },
   "outputs": [
    {
     "data": {
      "text/plain": [
       "TotalAssets                           209.733549\n",
       "ShortTermAssets                        13.437045\n",
       "TotalLiabilities&StockholderEquity    199.839675\n",
       "ShortTermLiabilities                    4.893982\n",
       "NetIncome                               1.378618\n",
       "dtype: float64"
      ]
     },
     "execution_count": 7,
     "metadata": {
      "tags": []
     },
     "output_type": "execute_result"
    }
   ],
   "source": [
    "VIF(logdata, ['TotalAssets', 'ShortTermAssets', 'TotalLiabilities&StockholderEquity', 'ShortTermLiabilities', 'NetIncome'])\n"
   ]
  },
  {
   "cell_type": "code",
   "execution_count": null,
   "metadata": {
    "colab": {
     "base_uri": "https://localhost:8080/"
    },
    "id": "XbZTDCKYDJYo",
    "outputId": "04e7dbd4-5f12-4552-f0bc-02423d2de1d5"
   },
   "outputs": [
    {
     "data": {
      "text/plain": [
       "ShortTermAssets                       12.956573\n",
       "TotalLiabilities&StockholderEquity    14.366831\n",
       "ShortTermLiabilities                   4.866165\n",
       "NetIncome                              1.377775\n",
       "dtype: float64"
      ]
     },
     "execution_count": 8,
     "metadata": {
      "tags": []
     },
     "output_type": "execute_result"
    }
   ],
   "source": [
    "# removing 'Total Assets\" since this has the largest VIF value\n",
    "VIF(logdata, ['ShortTermAssets',\n",
    "       'TotalLiabilities&StockholderEquity', 'ShortTermLiabilities',\n",
    "       'NetIncome'])"
   ]
  },
  {
   "cell_type": "code",
   "execution_count": null,
   "metadata": {
    "colab": {
     "base_uri": "https://localhost:8080/"
    },
    "id": "lduvLC_LEO24",
    "outputId": "6f7ee317-42d6-41c5-ead9-030da108bffa"
   },
   "outputs": [
    {
     "data": {
      "text/plain": [
       "ShortTermAssets         4.189627\n",
       "ShortTermLiabilities    4.345957\n",
       "NetIncome               1.368474\n",
       "dtype: float64"
      ]
     },
     "execution_count": 9,
     "metadata": {
      "tags": []
     },
     "output_type": "execute_result"
    }
   ],
   "source": [
    "#removing 'Total Liabilities & Stockholder Equity'\n",
    "VIF(logdata, ['ShortTermAssets', 'ShortTermLiabilities', 'NetIncome'])"
   ]
  },
  {
   "cell_type": "code",
   "execution_count": null,
   "metadata": {
    "colab": {
     "base_uri": "https://localhost:8080/",
     "height": 419
    },
    "id": "O_5kaVC0D8C5",
    "outputId": "b137ab54-1541-403b-8ea1-53bbdacaf262"
   },
   "outputs": [
    {
     "data": {
      "text/html": [
       "<div>\n",
       "<style scoped>\n",
       "    .dataframe tbody tr th:only-of-type {\n",
       "        vertical-align: middle;\n",
       "    }\n",
       "\n",
       "    .dataframe tbody tr th {\n",
       "        vertical-align: top;\n",
       "    }\n",
       "\n",
       "    .dataframe thead th {\n",
       "        text-align: right;\n",
       "    }\n",
       "</style>\n",
       "<table border=\"1\" class=\"dataframe\">\n",
       "  <thead>\n",
       "    <tr style=\"text-align: right;\">\n",
       "      <th></th>\n",
       "      <th>ShortTermAssets</th>\n",
       "      <th>NetIncome</th>\n",
       "      <th>ShortTermLiabilities</th>\n",
       "      <th>FiscalYear</th>\n",
       "      <th>MarketCap</th>\n",
       "    </tr>\n",
       "  </thead>\n",
       "  <tbody>\n",
       "    <tr>\n",
       "      <th>0</th>\n",
       "      <td>23.254579</td>\n",
       "      <td>21.188257</td>\n",
       "      <td>21.757517</td>\n",
       "      <td>2009</td>\n",
       "      <td>24.747334</td>\n",
       "    </tr>\n",
       "    <tr>\n",
       "      <th>1</th>\n",
       "      <td>21.481639</td>\n",
       "      <td>19.212315</td>\n",
       "      <td>20.669021</td>\n",
       "      <td>2009</td>\n",
       "      <td>22.274374</td>\n",
       "    </tr>\n",
       "    <tr>\n",
       "      <th>2</th>\n",
       "      <td>21.434155</td>\n",
       "      <td>19.783706</td>\n",
       "      <td>21.181323</td>\n",
       "      <td>2009</td>\n",
       "      <td>22.535072</td>\n",
       "    </tr>\n",
       "    <tr>\n",
       "      <th>3</th>\n",
       "      <td>23.021216</td>\n",
       "      <td>20.036890</td>\n",
       "      <td>22.972409</td>\n",
       "      <td>2009</td>\n",
       "      <td>22.374665</td>\n",
       "    </tr>\n",
       "    <tr>\n",
       "      <th>4</th>\n",
       "      <td>21.821145</td>\n",
       "      <td>20.263292</td>\n",
       "      <td>21.640996</td>\n",
       "      <td>2009</td>\n",
       "      <td>23.130167</td>\n",
       "    </tr>\n",
       "    <tr>\n",
       "      <th>...</th>\n",
       "      <td>...</td>\n",
       "      <td>...</td>\n",
       "      <td>...</td>\n",
       "      <td>...</td>\n",
       "      <td>...</td>\n",
       "    </tr>\n",
       "    <tr>\n",
       "      <th>23421</th>\n",
       "      <td>18.955155</td>\n",
       "      <td>-17.104323</td>\n",
       "      <td>15.499499</td>\n",
       "      <td>2020</td>\n",
       "      <td>20.435214</td>\n",
       "    </tr>\n",
       "    <tr>\n",
       "      <th>23422</th>\n",
       "      <td>19.742903</td>\n",
       "      <td>17.894285</td>\n",
       "      <td>19.482294</td>\n",
       "      <td>2020</td>\n",
       "      <td>22.301279</td>\n",
       "    </tr>\n",
       "    <tr>\n",
       "      <th>23423</th>\n",
       "      <td>18.349729</td>\n",
       "      <td>15.958379</td>\n",
       "      <td>17.087551</td>\n",
       "      <td>2020</td>\n",
       "      <td>21.765007</td>\n",
       "    </tr>\n",
       "    <tr>\n",
       "      <th>23424</th>\n",
       "      <td>16.307787</td>\n",
       "      <td>16.259982</td>\n",
       "      <td>10.115772</td>\n",
       "      <td>2020</td>\n",
       "      <td>19.341727</td>\n",
       "    </tr>\n",
       "    <tr>\n",
       "      <th>23425</th>\n",
       "      <td>12.909170</td>\n",
       "      <td>-15.655266</td>\n",
       "      <td>16.373280</td>\n",
       "      <td>2020</td>\n",
       "      <td>14.434069</td>\n",
       "    </tr>\n",
       "  </tbody>\n",
       "</table>\n",
       "<p>23426 rows × 5 columns</p>\n",
       "</div>"
      ],
      "text/plain": [
       "       ShortTermAssets  NetIncome  ShortTermLiabilities  FiscalYear  MarketCap\n",
       "0            23.254579  21.188257             21.757517        2009  24.747334\n",
       "1            21.481639  19.212315             20.669021        2009  22.274374\n",
       "2            21.434155  19.783706             21.181323        2009  22.535072\n",
       "3            23.021216  20.036890             22.972409        2009  22.374665\n",
       "4            21.821145  20.263292             21.640996        2009  23.130167\n",
       "...                ...        ...                   ...         ...        ...\n",
       "23421        18.955155 -17.104323             15.499499        2020  20.435214\n",
       "23422        19.742903  17.894285             19.482294        2020  22.301279\n",
       "23423        18.349729  15.958379             17.087551        2020  21.765007\n",
       "23424        16.307787  16.259982             10.115772        2020  19.341727\n",
       "23425        12.909170 -15.655266             16.373280        2020  14.434069\n",
       "\n",
       "[23426 rows x 5 columns]"
      ]
     },
     "execution_count": 10,
     "metadata": {
      "tags": []
     },
     "output_type": "execute_result"
    }
   ],
   "source": [
    "#All VIF values below 5 with these features\n",
    "low_VIF_features = ['ShortTermAssets', 'NetIncome', 'ShortTermLiabilities']\n",
    "lowVIF_data = logdata[low_VIF_features + ['FiscalYear', 'MarketCap']]\n",
    "lowVIF_data"
   ]
  },
  {
   "cell_type": "markdown",
   "metadata": {
    "id": "6S-rOcfGeEth"
   },
   "source": [
    "# Data Spliting"
   ]
  },
  {
   "cell_type": "code",
   "execution_count": null,
   "metadata": {
    "colab": {
     "base_uri": "https://localhost:8080/"
    },
    "id": "-zQE3A_kqI4l",
    "outputId": "29944c78-fc51-4b0e-acb3-f62679057b2b"
   },
   "outputs": [
    {
     "data": {
      "text/plain": [
       "((18044, 5), (5382, 5))"
      ]
     },
     "execution_count": 11,
     "metadata": {
      "tags": []
     },
     "output_type": "execute_result"
    }
   ],
   "source": [
    "# Train Test split\n",
    "# Using data prior to and including 2018 as training data and data after 2018 for testing (makes a 3:1 train test split)\n",
    "\n",
    "train = data[data[\"FiscalYear\"] <= 2018]\n",
    "test = data[data[\"FiscalYear\"] > 2018]\n",
    "\n",
    "#USING lowVIF NOT all logdata\n",
    "logtrain = lowVIF_data[lowVIF_data[\"FiscalYear\"] <= 2018]\n",
    "logtest = lowVIF_data[lowVIF_data[\"FiscalYear\"] > 2018]\n",
    "\n",
    "logtrain.shape, logtest.shape"
   ]
  },
  {
   "cell_type": "code",
   "execution_count": null,
   "metadata": {
    "colab": {
     "base_uri": "https://localhost:8080/"
    },
    "id": "cJbHnUCUqjxS",
    "outputId": "05826659-ae49-4a14-e14a-71083c5305df"
   },
   "outputs": [
    {
     "data": {
      "text/plain": [
       "((18044, 3), (5382, 3))"
      ]
     },
     "execution_count": 12,
     "metadata": {
      "tags": []
     },
     "output_type": "execute_result"
    }
   ],
   "source": [
    "# LINEAR DATA (original data types)\n",
    "X_train = train.drop(['MarketCap', 'FiscalYear'], axis=1)\n",
    "y_train = train['MarketCap']\n",
    "\n",
    "X_test = test.drop(['MarketCap', 'FiscalYear'], axis=1)\n",
    "y_test = test['MarketCap']\n",
    "\n",
    "# LOG TRANSFORMED DATA WITH 3 FEATURES\n",
    "logX_train = logtrain.drop(['MarketCap', 'FiscalYear'], axis=1)\n",
    "logy_train = logtrain['MarketCap']\n",
    "\n",
    "logX_test = logtest.drop(['MarketCap', 'FiscalYear'], axis=1)\n",
    "logy_test = logtest['MarketCap']\n",
    "\n",
    "logX_train.shape, logX_test.shape\n"
   ]
  },
  {
   "cell_type": "markdown",
   "metadata": {
    "id": "ropozq0seIsI"
   },
   "source": [
    "# CART"
   ]
  },
  {
   "cell_type": "code",
   "execution_count": null,
   "metadata": {
    "id": "W9Wjae_UP5tQ"
   },
   "outputs": [],
   "source": [
    "# Copying data to build CART model\n",
    "cart_x_train = logX_train.copy()#.drop(\"Fiscal Year\", axis=1) # Fiscal Year dropped in initial train-test split cell\n",
    "cart_y_train = logy_train.copy()\n",
    "\n",
    "cart_x_test = logX_test.copy()#.drop(\"Fiscal Year\", axis=1) # Fiscal Year dropped in initial train-test split cell\n",
    "cart_y_test = logy_test.copy()"
   ]
  },
  {
   "cell_type": "code",
   "execution_count": null,
   "metadata": {
    "colab": {
     "base_uri": "https://localhost:8080/"
    },
    "id": "2z--qaRR_0hZ",
    "outputId": "516e2f14-e4cc-49a2-9906-92c334c0cf67"
   },
   "outputs": [
    {
     "data": {
      "text/plain": [
       "GridSearchCV(cv=KFold(n_splits=5, random_state=1, shuffle=True),\n",
       "             error_score=nan,\n",
       "             estimator=DecisionTreeRegressor(ccp_alpha=0.0, criterion='mse',\n",
       "                                             max_depth=None, max_features=None,\n",
       "                                             max_leaf_nodes=None,\n",
       "                                             min_impurity_decrease=0.0,\n",
       "                                             min_impurity_split=None,\n",
       "                                             min_samples_leaf=5,\n",
       "                                             min_samples_split=20,\n",
       "                                             min_weight_fraction_leaf=0.0,\n",
       "                                             presort='deprecated',\n",
       "                                             random_state=88, s...\n",
       "             param_grid={'ccp_alpha': array([0.   , 0.002, 0.004, 0.006, 0.008, 0.01 , 0.012, 0.014, 0.016,\n",
       "       0.018, 0.02 , 0.022, 0.024, 0.026, 0.028, 0.03 , 0.032, 0.034,\n",
       "       0.036, 0.038, 0.04 , 0.042, 0.044, 0.046, 0.048, 0.05 , 0.052,\n",
       "       0.054, 0.056, 0.058, 0.06 , 0.062, 0.064, 0.066, 0.068, 0.07 ,\n",
       "       0.072, 0.074, 0.076, 0.078, 0.08 , 0.082, 0.084, 0.086, 0.088,\n",
       "       0.09 , 0.092, 0.094, 0.096, 0.098, 0.1  ])},\n",
       "             pre_dispatch='2*n_jobs', refit=True, return_train_score=False,\n",
       "             scoring='r2', verbose=0)"
      ]
     },
     "execution_count": 14,
     "metadata": {
      "tags": []
     },
     "output_type": "execute_result"
    }
   ],
   "source": [
    "# Training the CART Model with log-log data\n",
    "grid_values = {'ccp_alpha': np.linspace(0, 0.10, 51)}\n",
    "\n",
    "dtr = DecisionTreeRegressor(min_samples_leaf=5, min_samples_split=20, random_state=88)\n",
    "cv = KFold(n_splits=5, random_state=1, shuffle=True)\n",
    "log_dtr_cv = GridSearchCV(dtr, param_grid=grid_values, scoring='r2', cv=cv, verbose=0)\n",
    "log_dtr_cv.fit(cart_x_train, cart_y_train)"
   ]
  },
  {
   "cell_type": "code",
   "execution_count": null,
   "metadata": {
    "colab": {
     "base_uri": "https://localhost:8080/",
     "height": 441
    },
    "id": "HQgu8XxkFG-n",
    "outputId": "a161c634-a115-4ccc-d97d-54ce04187554"
   },
   "outputs": [
    {
     "data": {
      "image/png": "[encoded data removed]",
      "text/plain": [
       "<Figure size 576x432 with 1 Axes>"
      ]
     },
     "metadata": {
      "needs_background": "light",
      "tags": []
     },
     "output_type": "display_data"
    }
   ],
   "source": [
    "log_ccp_alpha = log_dtr_cv.cv_results_['param_ccp_alpha'].data\n",
    "log_R2_scores = log_dtr_cv.cv_results_['mean_test_score']\n",
    "\n",
    "plt.figure(figsize=(8, 6))\n",
    "plt.title(\"LOG-LOG CART CV\")\n",
    "plt.xlabel('ccp_alpha', fontsize=16)\n",
    "plt.ylabel('CV R2', fontsize=16)\n",
    "plt.scatter(log_ccp_alpha, log_R2_scores, s=30)\n",
    "plt.plot(log_ccp_alpha, log_R2_scores, linewidth=3)\n",
    "plt.grid(True, which='both')\n",
    "plt.xlim([0, 0.05])\n",
    "plt.ylim([0.0, 0.6])\n",
    "plt.axvline(log_dtr_cv.best_params_['ccp_alpha'], color='red')\n",
    "\n",
    "plt.tight_layout()\n",
    "plt.show()"
   ]
  },
  {
   "cell_type": "code",
   "execution_count": null,
   "metadata": {
    "colab": {
     "base_uri": "https://localhost:8080/"
    },
    "id": "-HPd4eYtxwsq",
    "outputId": "fb1adf21-f01a-4d7c-a6c3-35cb3c1670d2"
   },
   "outputs": [
    {
     "name": "stdout",
     "output_type": "stream",
     "text": [
      "LOG-LOG MODEL RESULTS\n",
      "Best ccp_alpha: 0.014\n",
      "Cross-validated R2: 0.48979\n",
      "OSR2: 0.65867\n",
      "MAE: 1.13741\n",
      "MSE: 2.63753\n"
     ]
    }
   ],
   "source": [
    "osr2_cart = OSR2(log_dtr_cv, cart_x_test, cart_y_test, cart_y_train)\n",
    "mse_cart = MSE(log_dtr_cv, cart_x_test, cart_y_test, cart_y_train)\n",
    "mae_cart = MAE(log_dtr_cv, cart_x_test, cart_y_test, cart_y_train)\n",
    "\n",
    "\n",
    "print(\"LOG-LOG MODEL RESULTS\")\n",
    "print(\"Best ccp_alpha:\", log_dtr_cv.best_params_['ccp_alpha'])\n",
    "print('Cross-validated R2:', round(log_dtr_cv.best_score_, 5))\n",
    "print('OSR2:', round(osr2_cart, 5))\n",
    "print(\"MAE:\", round(mae_cart, 5))\n",
    "print(\"MSE:\", round(mse_cart, 5))\n"
   ]
  },
  {
   "cell_type": "code",
   "execution_count": null,
   "metadata": {
    "id": "GKmdNVJJyZIQ"
   },
   "outputs": [],
   "source": [
    "# Copying data to train a linear-log CART model\n",
    "linear_cart_x_train = X_train.copy().loc[:, \"TotalAssets\":\"NetIncome\"]\n",
    "linear_cart_y_train = np.log(y_train)\n",
    "\n",
    "linear_cart_x_test = X_test.copy().loc[:, \"TotalAssets\":\"NetIncome\"]\n",
    "linear_cart_y_test = np.log(y_test)"
   ]
  },
  {
   "cell_type": "code",
   "execution_count": null,
   "metadata": {
    "colab": {
     "base_uri": "https://localhost:8080/"
    },
    "id": "8P_K2eaZzFNH",
    "outputId": "f5eeda17-4b48-49e2-f611-6b8c298b23ee"
   },
   "outputs": [
    {
     "data": {
      "text/plain": [
       "GridSearchCV(cv=KFold(n_splits=5, random_state=1, shuffle=True),\n",
       "             error_score=nan,\n",
       "             estimator=DecisionTreeRegressor(ccp_alpha=0.0, criterion='mse',\n",
       "                                             max_depth=None, max_features=None,\n",
       "                                             max_leaf_nodes=None,\n",
       "                                             min_impurity_decrease=0.0,\n",
       "                                             min_impurity_split=None,\n",
       "                                             min_samples_leaf=5,\n",
       "                                             min_samples_split=20,\n",
       "                                             min_weight_fraction_leaf=0.0,\n",
       "                                             presort='deprecated',\n",
       "                                             random_state=88, s...\n",
       "             param_grid={'ccp_alpha': array([0.   , 0.001, 0.002, 0.003, 0.004, 0.005, 0.006, 0.007, 0.008,\n",
       "       0.009, 0.01 , 0.011, 0.012, 0.013, 0.014, 0.015, 0.016, 0.017,\n",
       "       0.018, 0.019, 0.02 , 0.021, 0.022, 0.023, 0.024, 0.025, 0.026,\n",
       "       0.027, 0.028, 0.029, 0.03 , 0.031, 0.032, 0.033, 0.034, 0.035,\n",
       "       0.036, 0.037, 0.038, 0.039, 0.04 , 0.041, 0.042, 0.043, 0.044,\n",
       "       0.045, 0.046, 0.047, 0.048, 0.049, 0.05 ])},\n",
       "             pre_dispatch='2*n_jobs', refit=True, return_train_score=False,\n",
       "             scoring='r2', verbose=0)"
      ]
     },
     "execution_count": 18,
     "metadata": {
      "tags": []
     },
     "output_type": "execute_result"
    }
   ],
   "source": [
    "# Training the CART Model with linear-log data\n",
    "grid_values = {'ccp_alpha': np.linspace(0, 0.05, 51)}\n",
    "\n",
    "dtr = DecisionTreeRegressor(min_samples_leaf=5, min_samples_split=20, random_state=88)\n",
    "cv = KFold(n_splits=5, random_state=1, shuffle=True)\n",
    "linear_dtr_cv = GridSearchCV(dtr, param_grid=grid_values, scoring='r2', cv=cv, verbose=0)\n",
    "linear_dtr_cv.fit(linear_cart_x_train, linear_cart_y_train)"
   ]
  },
  {
   "cell_type": "code",
   "execution_count": null,
   "metadata": {
    "colab": {
     "base_uri": "https://localhost:8080/",
     "height": 441
    },
    "id": "cH-OzDinzOFr",
    "outputId": "2bc3c630-b211-4879-820a-551e1db3f0ff"
   },
   "outputs": [
    {
     "data": {
      "image/png": "[encoded data removed]",
      "text/plain": [
       "<Figure size 576x432 with 1 Axes>"
      ]
     },
     "metadata": {
      "needs_background": "light",
      "tags": []
     },
     "output_type": "display_data"
    }
   ],
   "source": [
    "linear_ccp_alpha = linear_dtr_cv.cv_results_['param_ccp_alpha'].data\n",
    "linear_R2_scores = linear_dtr_cv.cv_results_['mean_test_score']\n",
    "\n",
    "plt.figure(figsize=(8, 6))\n",
    "plt.title(\"LINEAR-LOG CART CV\")\n",
    "plt.xlabel('ccp_alpha', fontsize=16)\n",
    "plt.ylabel('CV R2', fontsize=16)\n",
    "plt.scatter(linear_ccp_alpha, linear_R2_scores, s=30)\n",
    "plt.plot(linear_ccp_alpha, linear_R2_scores, linewidth=3)\n",
    "plt.grid(True, which='both')\n",
    "plt.xlim([0, 0.05])\n",
    "plt.ylim([0.0, 0.6])\n",
    "plt.axvline(linear_dtr_cv.best_params_['ccp_alpha'], color='red')\n",
    "\n",
    "\n",
    "plt.tight_layout()\n",
    "plt.show()"
   ]
  },
  {
   "cell_type": "code",
   "execution_count": null,
   "metadata": {
    "colab": {
     "base_uri": "https://localhost:8080/"
    },
    "id": "Mv9PKOy0zg-F",
    "outputId": "b5f4fb9c-9e1c-4809-de68-c54acbe14f93"
   },
   "outputs": [
    {
     "name": "stdout",
     "output_type": "stream",
     "text": [
      "LINEAR-LOG MODEL RESULTS\n",
      "Best ccp_alpha: 0.013000000000000001\n",
      "Cross-validated R2: 0.49065\n",
      "OSR2: 0.66114\n",
      "MAE: 1.13133\n",
      "MSE: 2.6184\n"
     ]
    }
   ],
   "source": [
    "print(\"LINEAR-LOG MODEL RESULTS\")\n",
    "print(\"Best ccp_alpha:\", linear_dtr_cv.best_params_['ccp_alpha'])\n",
    "print('Cross-validated R2:', round(linear_dtr_cv.best_score_, 5))\n",
    "print('OSR2:', round(OSR2(linear_dtr_cv, linear_cart_x_test, linear_cart_y_test, linear_cart_y_train), 5))\n",
    "print(\"MAE:\", round(MAE(linear_dtr_cv, linear_cart_x_test, linear_cart_y_test, linear_cart_y_train), 5))\n",
    "print(\"MSE:\", round(MSE(linear_dtr_cv, linear_cart_x_test, linear_cart_y_test, linear_cart_y_train), 5))\n"
   ]
  },
  {
   "cell_type": "markdown",
   "metadata": {
    "id": "zDSqZu-5eMKh"
   },
   "source": [
    "# Linear Regression"
   ]
  },
  {
   "cell_type": "code",
   "execution_count": null,
   "metadata": {
    "id": "ZDUo3Amo4Zmv"
   },
   "outputs": [],
   "source": [
    "lr_data = lowVIF_data.copy()"
   ]
  },
  {
   "cell_type": "code",
   "execution_count": null,
   "metadata": {
    "id": "N-gW66M6Sp8S"
   },
   "outputs": [],
   "source": [
    "# Renaming The col for Linear Regression\n",
    "lr_data.rename(columns = {'Market Cap':'MarketCap', 'Total Assets':'TotalAssets',\n",
    "                              'Short Term Assets':'ShortTermAssets',\n",
    "                          'Total Liabilities & Stockholder Equity':'TLSE',\n",
    "                         'Short Term Liabilities':'ShortTermLiabilities','Net Income':'NetIncome'\n",
    "                          ,'Fiscal Year':'FiscalYear'}, inplace = True)"
   ]
  },
  {
   "cell_type": "code",
   "execution_count": null,
   "metadata": {
    "colab": {
     "base_uri": "https://localhost:8080/"
    },
    "id": "pc4WAsDQc3Ba",
    "outputId": "7861ae24-a10e-40a1-ffa5-c1fb5632e30f"
   },
   "outputs": [
    {
     "name": "stdout",
     "output_type": "stream",
     "text": [
      "<class 'pandas.core.frame.DataFrame'>\n",
      "RangeIndex: 23426 entries, 0 to 23425\n",
      "Data columns (total 5 columns):\n",
      " #   Column                Non-Null Count  Dtype  \n",
      "---  ------                --------------  -----  \n",
      " 0   ShortTermAssets       23426 non-null  float64\n",
      " 1   NetIncome             23426 non-null  float64\n",
      " 2   ShortTermLiabilities  23426 non-null  float64\n",
      " 3   FiscalYear            23426 non-null  int64  \n",
      " 4   MarketCap             23426 non-null  float64\n",
      "dtypes: float64(4), int64(1)\n",
      "memory usage: 915.2 KB\n"
     ]
    }
   ],
   "source": [
    "lr_data.info()"
   ]
  },
  {
   "cell_type": "code",
   "execution_count": null,
   "metadata": {
    "id": "7GK8jhYjSz0o"
   },
   "outputs": [],
   "source": [
    "#Data Spliting \n",
    "lr_train = lr_data[lr_data['FiscalYear'] <= 2018]\n",
    "lr_test = lr_data[lr_data['FiscalYear'] > 2018]\n",
    "lr_y_train = lr_train['MarketCap']\n",
    "lr_y_test = lr_test['MarketCap']"
   ]
  },
  {
   "cell_type": "code",
   "execution_count": null,
   "metadata": {
    "colab": {
     "base_uri": "https://localhost:8080/"
    },
    "id": "6ukY_3lTT_Eg",
    "outputId": "9414e3d9-6aae-47c8-c0dd-3419412308fd"
   },
   "outputs": [
    {
     "name": "stdout",
     "output_type": "stream",
     "text": [
      "                            OLS Regression Results                            \n",
      "==============================================================================\n",
      "Dep. Variable:              MarketCap   R-squared:                       0.422\n",
      "Model:                            OLS   Adj. R-squared:                  0.422\n",
      "Method:                 Least Squares   F-statistic:                     4384.\n",
      "Date:                Wed, 12 May 2021   Prob (F-statistic):               0.00\n",
      "Time:                        23:01:52   Log-Likelihood:                -39671.\n",
      "No. Observations:               18044   AIC:                         7.935e+04\n",
      "Df Residuals:                   18040   BIC:                         7.938e+04\n",
      "Df Model:                           3                                         \n",
      "Covariance Type:            nonrobust                                         \n",
      "========================================================================================\n",
      "                           coef    std err          t      P>|t|      [0.025      0.975]\n",
      "----------------------------------------------------------------------------------------\n",
      "Intercept                8.6377      0.119     72.886      0.000       8.405       8.870\n",
      "ShortTermAssets          0.1978      0.010     20.686      0.000       0.179       0.217\n",
      "ShortTermLiabilities     0.4395      0.012     37.130      0.000       0.416       0.463\n",
      "NetIncome               -0.0032      0.001     -2.724      0.006      -0.005      -0.001\n",
      "==============================================================================\n",
      "Omnibus:                     5916.557   Durbin-Watson:                   1.900\n",
      "Prob(Omnibus):                  0.000   Jarque-Bera (JB):           150905.709\n",
      "Skew:                           1.009   Prob(JB):                         0.00\n",
      "Kurtosis:                      17.023   Cond. No.                         190.\n",
      "==============================================================================\n",
      "\n",
      "Warnings:\n",
      "[1] Standard Errors assume that the covariance matrix of the errors is correctly specified.\n"
     ]
    }
   ],
   "source": [
    "# Final model\n",
    "lr_new = smf.ols(formula='MarketCap ~ ShortTermAssets + ShortTermLiabilities+ NetIncome',\n",
    "                 data=lr_train).fit()\n",
    "print(lr_new.summary())"
   ]
  },
  {
   "cell_type": "code",
   "execution_count": null,
   "metadata": {
    "colab": {
     "base_uri": "https://localhost:8080/"
    },
    "id": "qsex_W3YUHSJ",
    "outputId": "56d6809e-a648-4f2b-af11-bd06c9be2ab2"
   },
   "outputs": [
    {
     "name": "stdout",
     "output_type": "stream",
     "text": [
      "Final OSR2:  0.6206168803231846\n",
      "Final MSE:  2.9315340649972375\n",
      "Final MAE:  1.2516377139113168\n"
     ]
    }
   ],
   "source": [
    "# Evaluating model Performance\n",
    "def lr_OSR2(model, df_train, df_test, dependent_var):   \n",
    "    y_test = df_test[dependent_var]\n",
    "    y_pred = model.predict(df_test)\n",
    "    SSE = np.sum((y_test - y_pred)**2)\n",
    "    SST = np.sum((y_test - np.mean(df_train[dependent_var]))**2)    \n",
    "    return 1 - SSE/SST\n",
    "def lr_MSE(model, df_train, df_test, dependent_var):\n",
    "    y_test = df_test[dependent_var]\n",
    "    y_pred = model.predict(df_test)\n",
    "    mse = np.mean((y_test-y_pred)**2)\n",
    "    return mse\n",
    "\n",
    "def lr_MAE(model, df_train, df_test, dependent_var):\n",
    "    y_test = df_test[dependent_var]\n",
    "    y_pred = model.predict(df_test)\n",
    "    mae = np.mean(np.abs(y_test-y_pred))\n",
    "    return mae\n",
    "\n",
    "osr2_lr = lr_OSR2(lr_new, lr_train, lr_test, 'MarketCap')\n",
    "mse_lr = lr_MSE(lr_new, lr_train, lr_test, 'MarketCap')\n",
    "mae_lr = lr_MAE(lr_new, lr_train, lr_test, 'MarketCap')\n",
    "\n",
    "print('Final OSR2: ', osr2_lr)\n",
    "print('Final MSE: ', mse_lr)\n",
    "print('Final MAE: ', mae_lr)"
   ]
  },
  {
   "cell_type": "markdown",
   "metadata": {
    "id": "9Pvq1NctfoCg"
   },
   "source": [
    "# Random Forest"
   ]
  },
  {
   "cell_type": "code",
   "execution_count": null,
   "metadata": {
    "colab": {
     "base_uri": "https://localhost:8080/",
     "height": 419
    },
    "id": "p0J-XMkjlDtN",
    "outputId": "7510cd8e-3cef-456c-c1ae-c066bcd0f324"
   },
   "outputs": [
    {
     "data": {
      "text/html": [
       "<div>\n",
       "<style scoped>\n",
       "    .dataframe tbody tr th:only-of-type {\n",
       "        vertical-align: middle;\n",
       "    }\n",
       "\n",
       "    .dataframe tbody tr th {\n",
       "        vertical-align: top;\n",
       "    }\n",
       "\n",
       "    .dataframe thead th {\n",
       "        text-align: right;\n",
       "    }\n",
       "</style>\n",
       "<table border=\"1\" class=\"dataframe\">\n",
       "  <thead>\n",
       "    <tr style=\"text-align: right;\">\n",
       "      <th></th>\n",
       "      <th>ShortTermAssets</th>\n",
       "      <th>NetIncome</th>\n",
       "      <th>ShortTermLiabilities</th>\n",
       "    </tr>\n",
       "  </thead>\n",
       "  <tbody>\n",
       "    <tr>\n",
       "      <th>0</th>\n",
       "      <td>23.254579</td>\n",
       "      <td>21.188257</td>\n",
       "      <td>21.757517</td>\n",
       "    </tr>\n",
       "    <tr>\n",
       "      <th>1</th>\n",
       "      <td>21.481639</td>\n",
       "      <td>19.212315</td>\n",
       "      <td>20.669021</td>\n",
       "    </tr>\n",
       "    <tr>\n",
       "      <th>2</th>\n",
       "      <td>21.434155</td>\n",
       "      <td>19.783706</td>\n",
       "      <td>21.181323</td>\n",
       "    </tr>\n",
       "    <tr>\n",
       "      <th>3</th>\n",
       "      <td>23.021216</td>\n",
       "      <td>20.036890</td>\n",
       "      <td>22.972409</td>\n",
       "    </tr>\n",
       "    <tr>\n",
       "      <th>4</th>\n",
       "      <td>21.821145</td>\n",
       "      <td>20.263292</td>\n",
       "      <td>21.640996</td>\n",
       "    </tr>\n",
       "    <tr>\n",
       "      <th>...</th>\n",
       "      <td>...</td>\n",
       "      <td>...</td>\n",
       "      <td>...</td>\n",
       "    </tr>\n",
       "    <tr>\n",
       "      <th>20865</th>\n",
       "      <td>12.797956</td>\n",
       "      <td>-15.124859</td>\n",
       "      <td>14.643450</td>\n",
       "    </tr>\n",
       "    <tr>\n",
       "      <th>21132</th>\n",
       "      <td>10.409190</td>\n",
       "      <td>-14.132044</td>\n",
       "      <td>14.062346</td>\n",
       "    </tr>\n",
       "    <tr>\n",
       "      <th>21136</th>\n",
       "      <td>11.094770</td>\n",
       "      <td>-13.743019</td>\n",
       "      <td>14.127922</td>\n",
       "    </tr>\n",
       "    <tr>\n",
       "      <th>21250</th>\n",
       "      <td>10.724302</td>\n",
       "      <td>-16.068002</td>\n",
       "      <td>15.667281</td>\n",
       "    </tr>\n",
       "    <tr>\n",
       "      <th>22316</th>\n",
       "      <td>0.000000</td>\n",
       "      <td>-14.213269</td>\n",
       "      <td>14.557456</td>\n",
       "    </tr>\n",
       "  </tbody>\n",
       "</table>\n",
       "<p>18044 rows × 3 columns</p>\n",
       "</div>"
      ],
      "text/plain": [
       "       ShortTermAssets  NetIncome  ShortTermLiabilities\n",
       "0            23.254579  21.188257             21.757517\n",
       "1            21.481639  19.212315             20.669021\n",
       "2            21.434155  19.783706             21.181323\n",
       "3            23.021216  20.036890             22.972409\n",
       "4            21.821145  20.263292             21.640996\n",
       "...                ...        ...                   ...\n",
       "20865        12.797956 -15.124859             14.643450\n",
       "21132        10.409190 -14.132044             14.062346\n",
       "21136        11.094770 -13.743019             14.127922\n",
       "21250        10.724302 -16.068002             15.667281\n",
       "22316         0.000000 -14.213269             14.557456\n",
       "\n",
       "[18044 rows x 3 columns]"
      ]
     },
     "execution_count": 27,
     "metadata": {
      "tags": []
     },
     "output_type": "execute_result"
    }
   ],
   "source": [
    "# split data into training and testing\n",
    "\n",
    "rf_y_train = logy_train.copy()\n",
    "rf_X_train = logX_train.copy()\n",
    "rf_y_test = logy_test.copy()\n",
    "rf_X_test = logX_test.copy()\n",
    "rf_X_train"
   ]
  },
  {
   "cell_type": "code",
   "execution_count": null,
   "metadata": {
    "colab": {
     "base_uri": "https://localhost:8080/"
    },
    "id": "rfIKuCTV1UbB",
    "outputId": "0557fdba-9a2c-411e-f611-e475c92ee5e7"
   },
   "outputs": [
    {
     "name": "stderr",
     "output_type": "stream",
     "text": [
      "[Parallel(n_jobs=1)]: Using backend SequentialBackend with 1 concurrent workers.\n",
      "[Parallel(n_jobs=1)]: Done   1 out of   1 | elapsed:    0.1s remaining:    0.0s\n"
     ]
    },
    {
     "name": "stdout",
     "output_type": "stream",
     "text": [
      "building tree 1 of 500\n",
      "building tree 2 of 500\n",
      "building tree 3 of 500\n",
      "building tree 4 of 500\n",
      "building tree 5 of 500\n",
      "building tree 6 of 500\n",
      "building tree 7 of 500\n",
      "building tree 8 of 500\n",
      "building tree 9 of 500\n",
      "building tree 10 of 500\n",
      "building tree 11 of 500\n",
      "building tree 12 of 500\n",
      "building tree 13 of 500\n",
      "building tree 14 of 500\n",
      "building tree 15 of 500\n",
      "building tree 16 of 500\n",
      "building tree 17 of 500\n",
      "building tree 18 of 500\n",
      "building tree 19 of 500\n",
      "building tree 20 of 500\n",
      "building tree 21 of 500\n",
      "building tree 22 of 500\n",
      "building tree 23 of 500\n",
      "building tree 24 of 500\n",
      "building tree 25 of 500\n",
      "building tree 26 of 500\n",
      "building tree 27 of 500\n",
      "building tree 28 of 500\n",
      "building tree 29 of 500\n",
      "building tree 30 of 500\n",
      "building tree 31 of 500\n",
      "building tree 32 of 500\n",
      "building tree 33 of 500\n",
      "building tree 34 of 500\n",
      "building tree 35 of 500\n",
      "building tree 36 of 500\n",
      "building tree 37 of 500\n",
      "building tree 38 of 500\n",
      "building tree 39 of 500\n",
      "building tree 40 of 500\n",
      "building tree 41 of 500\n",
      "building tree 42 of 500\n",
      "building tree 43 of 500\n",
      "building tree 44 of 500\n",
      "building tree 45 of 500\n",
      "building tree 46 of 500\n",
      "building tree 47 of 500\n",
      "building tree 48 of 500\n",
      "building tree 49 of 500\n",
      "building tree 50 of 500\n",
      "building tree 51 of 500\n",
      "building tree 52 of 500\n",
      "building tree 53 of 500\n",
      "building tree 54 of 500\n",
      "building tree 55 of 500\n",
      "building tree 56 of 500\n",
      "building tree 57 of 500\n",
      "building tree 58 of 500\n",
      "building tree 59 of 500\n",
      "building tree 60 of 500\n",
      "building tree 61 of 500\n",
      "building tree 62 of 500\n",
      "building tree 63 of 500\n",
      "building tree 64 of 500\n",
      "building tree 65 of 500\n",
      "building tree 66 of 500\n",
      "building tree 67 of 500\n",
      "building tree 68 of 500\n",
      "building tree 69 of 500\n",
      "building tree 70 of 500\n",
      "building tree 71 of 500\n",
      "building tree 72 of 500\n",
      "building tree 73 of 500\n",
      "building tree 74 of 500\n",
      "building tree 75 of 500\n",
      "building tree 76 of 500\n",
      "building tree 77 of 500\n",
      "building tree 78 of 500\n",
      "building tree 79 of 500\n",
      "building tree 80 of 500\n",
      "building tree 81 of 500\n",
      "building tree 82 of 500\n",
      "building tree 83 of 500\n",
      "building tree 84 of 500\n",
      "building tree 85 of 500\n",
      "building tree 86 of 500\n",
      "building tree 87 of 500\n",
      "building tree 88 of 500\n",
      "building tree 89 of 500\n",
      "building tree 90 of 500\n",
      "building tree 91 of 500\n",
      "building tree 92 of 500\n",
      "building tree 93 of 500\n",
      "building tree 94 of 500\n",
      "building tree 95 of 500\n",
      "building tree 96 of 500\n",
      "building tree 97 of 500\n",
      "building tree 98 of 500\n",
      "building tree 99 of 500\n",
      "building tree 100 of 500\n",
      "building tree 101 of 500\n",
      "building tree 102 of 500\n",
      "building tree 103 of 500\n",
      "building tree 104 of 500\n",
      "building tree 105 of 500\n",
      "building tree 106 of 500\n",
      "building tree 107 of 500\n",
      "building tree 108 of 500\n",
      "building tree 109 of 500\n",
      "building tree 110 of 500\n",
      "building tree 111 of 500\n",
      "building tree 112 of 500\n",
      "building tree 113 of 500\n",
      "building tree 114 of 500\n",
      "building tree 115 of 500\n",
      "building tree 116 of 500\n",
      "building tree 117 of 500\n",
      "building tree 118 of 500\n",
      "building tree 119 of 500\n",
      "building tree 120 of 500\n",
      "building tree 121 of 500\n",
      "building tree 122 of 500\n",
      "building tree 123 of 500\n",
      "building tree 124 of 500\n",
      "building tree 125 of 500\n",
      "building tree 126 of 500\n",
      "building tree 127 of 500\n",
      "building tree 128 of 500\n",
      "building tree 129 of 500\n",
      "building tree 130 of 500\n",
      "building tree 131 of 500\n",
      "building tree 132 of 500\n",
      "building tree 133 of 500\n",
      "building tree 134 of 500\n",
      "building tree 135 of 500\n",
      "building tree 136 of 500\n",
      "building tree 137 of 500\n",
      "building tree 138 of 500\n",
      "building tree 139 of 500\n",
      "building tree 140 of 500\n",
      "building tree 141 of 500\n",
      "building tree 142 of 500\n",
      "building tree 143 of 500\n",
      "building tree 144 of 500\n",
      "building tree 145 of 500\n",
      "building tree 146 of 500\n",
      "building tree 147 of 500\n",
      "building tree 148 of 500\n",
      "building tree 149 of 500\n",
      "building tree 150 of 500\n",
      "building tree 151 of 500\n",
      "building tree 152 of 500\n",
      "building tree 153 of 500\n",
      "building tree 154 of 500\n",
      "building tree 155 of 500\n",
      "building tree 156 of 500\n",
      "building tree 157 of 500\n",
      "building tree 158 of 500\n",
      "building tree 159 of 500\n",
      "building tree 160 of 500\n",
      "building tree 161 of 500\n",
      "building tree 162 of 500\n",
      "building tree 163 of 500\n",
      "building tree 164 of 500\n",
      "building tree 165 of 500\n",
      "building tree 166 of 500\n",
      "building tree 167 of 500\n",
      "building tree 168 of 500\n",
      "building tree 169 of 500\n",
      "building tree 170 of 500\n",
      "building tree 171 of 500\n",
      "building tree 172 of 500\n",
      "building tree 173 of 500\n",
      "building tree 174 of 500\n",
      "building tree 175 of 500\n",
      "building tree 176 of 500\n",
      "building tree 177 of 500\n",
      "building tree 178 of 500\n",
      "building tree 179 of 500\n",
      "building tree 180 of 500\n",
      "building tree 181 of 500\n",
      "building tree 182 of 500\n",
      "building tree 183 of 500\n",
      "building tree 184 of 500\n",
      "building tree 185 of 500\n",
      "building tree 186 of 500\n",
      "building tree 187 of 500\n",
      "building tree 188 of 500\n",
      "building tree 189 of 500\n",
      "building tree 190 of 500\n",
      "building tree 191 of 500\n",
      "building tree 192 of 500\n",
      "building tree 193 of 500\n",
      "building tree 194 of 500\n",
      "building tree 195 of 500\n",
      "building tree 196 of 500\n",
      "building tree 197 of 500\n",
      "building tree 198 of 500\n",
      "building tree 199 of 500\n",
      "building tree 200 of 500\n",
      "building tree 201 of 500\n",
      "building tree 202 of 500\n",
      "building tree 203 of 500\n",
      "building tree 204 of 500\n",
      "building tree 205 of 500\n",
      "building tree 206 of 500\n",
      "building tree 207 of 500\n",
      "building tree 208 of 500\n",
      "building tree 209 of 500\n",
      "building tree 210 of 500\n",
      "building tree 211 of 500\n",
      "building tree 212 of 500\n",
      "building tree 213 of 500\n",
      "building tree 214 of 500\n",
      "building tree 215 of 500\n",
      "building tree 216 of 500\n",
      "building tree 217 of 500\n",
      "building tree 218 of 500\n",
      "building tree 219 of 500\n",
      "building tree 220 of 500\n",
      "building tree 221 of 500\n",
      "building tree 222 of 500\n",
      "building tree 223 of 500\n",
      "building tree 224 of 500\n",
      "building tree 225 of 500\n",
      "building tree 226 of 500\n",
      "building tree 227 of 500\n",
      "building tree 228 of 500\n",
      "building tree 229 of 500\n",
      "building tree 230 of 500\n",
      "building tree 231 of 500\n",
      "building tree 232 of 500\n",
      "building tree 233 of 500\n",
      "building tree 234 of 500\n",
      "building tree 235 of 500\n",
      "building tree 236 of 500\n",
      "building tree 237 of 500\n",
      "building tree 238 of 500\n",
      "building tree 239 of 500\n",
      "building tree 240 of 500\n",
      "building tree 241 of 500\n",
      "building tree 242 of 500\n",
      "building tree 243 of 500\n",
      "building tree 244 of 500\n",
      "building tree 245 of 500\n",
      "building tree 246 of 500\n",
      "building tree 247 of 500\n",
      "building tree 248 of 500\n",
      "building tree 249 of 500\n",
      "building tree 250 of 500\n",
      "building tree 251 of 500\n",
      "building tree 252 of 500\n",
      "building tree 253 of 500\n",
      "building tree 254 of 500\n",
      "building tree 255 of 500\n",
      "building tree 256 of 500\n",
      "building tree 257 of 500\n",
      "building tree 258 of 500\n",
      "building tree 259 of 500\n",
      "building tree 260 of 500\n",
      "building tree 261 of 500\n",
      "building tree 262 of 500\n",
      "building tree 263 of 500\n",
      "building tree 264 of 500\n",
      "building tree 265 of 500\n",
      "building tree 266 of 500\n",
      "building tree 267 of 500\n",
      "building tree 268 of 500\n",
      "building tree 269 of 500\n",
      "building tree 270 of 500\n",
      "building tree 271 of 500\n",
      "building tree 272 of 500\n",
      "building tree 273 of 500\n",
      "building tree 274 of 500\n",
      "building tree 275 of 500\n",
      "building tree 276 of 500\n",
      "building tree 277 of 500\n",
      "building tree 278 of 500\n",
      "building tree 279 of 500\n",
      "building tree 280 of 500\n",
      "building tree 281 of 500\n",
      "building tree 282 of 500\n",
      "building tree 283 of 500\n",
      "building tree 284 of 500\n",
      "building tree 285 of 500\n",
      "building tree 286 of 500\n",
      "building tree 287 of 500\n",
      "building tree 288 of 500\n",
      "building tree 289 of 500\n",
      "building tree 290 of 500\n",
      "building tree 291 of 500\n",
      "building tree 292 of 500\n",
      "building tree 293 of 500\n",
      "building tree 294 of 500\n",
      "building tree 295 of 500\n",
      "building tree 296 of 500\n",
      "building tree 297 of 500\n",
      "building tree 298 of 500\n",
      "building tree 299 of 500\n",
      "building tree 300 of 500\n",
      "building tree 301 of 500\n",
      "building tree 302 of 500\n",
      "building tree 303 of 500\n",
      "building tree 304 of 500\n",
      "building tree 305 of 500\n",
      "building tree 306 of 500\n",
      "building tree 307 of 500\n",
      "building tree 308 of 500\n",
      "building tree 309 of 500\n",
      "building tree 310 of 500\n",
      "building tree 311 of 500\n",
      "building tree 312 of 500\n",
      "building tree 313 of 500\n",
      "building tree 314 of 500\n",
      "building tree 315 of 500\n",
      "building tree 316 of 500\n",
      "building tree 317 of 500\n",
      "building tree 318 of 500\n",
      "building tree 319 of 500\n",
      "building tree 320 of 500\n",
      "building tree 321 of 500\n",
      "building tree 322 of 500\n",
      "building tree 323 of 500\n",
      "building tree 324 of 500\n",
      "building tree 325 of 500\n",
      "building tree 326 of 500\n",
      "building tree 327 of 500\n",
      "building tree 328 of 500\n",
      "building tree 329 of 500\n",
      "building tree 330 of 500\n",
      "building tree 331 of 500\n",
      "building tree 332 of 500\n",
      "building tree 333 of 500\n",
      "building tree 334 of 500\n",
      "building tree 335 of 500\n",
      "building tree 336 of 500\n",
      "building tree 337 of 500\n",
      "building tree 338 of 500\n",
      "building tree 339 of 500\n",
      "building tree 340 of 500\n",
      "building tree 341 of 500\n",
      "building tree 342 of 500\n",
      "building tree 343 of 500\n",
      "building tree 344 of 500\n",
      "building tree 345 of 500\n",
      "building tree 346 of 500\n",
      "building tree 347 of 500\n",
      "building tree 348 of 500\n",
      "building tree 349 of 500\n",
      "building tree 350 of 500\n",
      "building tree 351 of 500\n",
      "building tree 352 of 500\n",
      "building tree 353 of 500\n",
      "building tree 354 of 500\n",
      "building tree 355 of 500\n",
      "building tree 356 of 500\n",
      "building tree 357 of 500\n",
      "building tree 358 of 500\n",
      "building tree 359 of 500\n",
      "building tree 360 of 500\n",
      "building tree 361 of 500\n",
      "building tree 362 of 500\n",
      "building tree 363 of 500\n",
      "building tree 364 of 500\n",
      "building tree 365 of 500\n",
      "building tree 366 of 500\n",
      "building tree 367 of 500\n",
      "building tree 368 of 500\n",
      "building tree 369 of 500\n",
      "building tree 370 of 500\n",
      "building tree 371 of 500\n",
      "building tree 372 of 500\n",
      "building tree 373 of 500\n",
      "building tree 374 of 500\n",
      "building tree 375 of 500\n",
      "building tree 376 of 500\n",
      "building tree 377 of 500\n",
      "building tree 378 of 500\n",
      "building tree 379 of 500\n",
      "building tree 380 of 500\n",
      "building tree 381 of 500\n",
      "building tree 382 of 500\n",
      "building tree 383 of 500\n",
      "building tree 384 of 500\n",
      "building tree 385 of 500\n",
      "building tree 386 of 500\n",
      "building tree 387 of 500\n",
      "building tree 388 of 500\n",
      "building tree 389 of 500\n",
      "building tree 390 of 500\n",
      "building tree 391 of 500\n",
      "building tree 392 of 500\n",
      "building tree 393 of 500\n",
      "building tree 394 of 500\n",
      "building tree 395 of 500\n",
      "building tree 396 of 500\n",
      "building tree 397 of 500\n",
      "building tree 398 of 500\n",
      "building tree 399 of 500\n",
      "building tree 400 of 500\n",
      "building tree 401 of 500\n",
      "building tree 402 of 500\n",
      "building tree 403 of 500\n",
      "building tree 404 of 500\n",
      "building tree 405 of 500\n",
      "building tree 406 of 500\n",
      "building tree 407 of 500\n",
      "building tree 408 of 500\n",
      "building tree 409 of 500\n",
      "building tree 410 of 500\n",
      "building tree 411 of 500\n",
      "building tree 412 of 500\n",
      "building tree 413 of 500\n",
      "building tree 414 of 500\n",
      "building tree 415 of 500\n",
      "building tree 416 of 500\n",
      "building tree 417 of 500\n",
      "building tree 418 of 500\n",
      "building tree 419 of 500\n",
      "building tree 420 of 500\n",
      "building tree 421 of 500\n",
      "building tree 422 of 500\n",
      "building tree 423 of 500\n",
      "building tree 424 of 500\n",
      "building tree 425 of 500\n",
      "building tree 426 of 500\n",
      "building tree 427 of 500\n",
      "building tree 428 of 500\n",
      "building tree 429 of 500\n",
      "building tree 430 of 500\n",
      "building tree 431 of 500\n",
      "building tree 432 of 500\n",
      "building tree 433 of 500\n",
      "building tree 434 of 500\n",
      "building tree 435 of 500\n",
      "building tree 436 of 500\n",
      "building tree 437 of 500\n",
      "building tree 438 of 500\n",
      "building tree 439 of 500\n",
      "building tree 440 of 500\n",
      "building tree 441 of 500\n",
      "building tree 442 of 500\n",
      "building tree 443 of 500\n",
      "building tree 444 of 500\n",
      "building tree 445 of 500\n",
      "building tree 446 of 500\n",
      "building tree 447 of 500\n",
      "building tree 448 of 500\n",
      "building tree 449 of 500\n",
      "building tree 450 of 500\n",
      "building tree 451 of 500\n",
      "building tree 452 of 500\n",
      "building tree 453 of 500\n",
      "building tree 454 of 500\n",
      "building tree 455 of 500\n",
      "building tree 456 of 500\n",
      "building tree 457 of 500\n",
      "building tree 458 of 500\n",
      "building tree 459 of 500\n",
      "building tree 460 of 500\n",
      "building tree 461 of 500\n",
      "building tree 462 of 500\n",
      "building tree 463 of 500\n",
      "building tree 464 of 500\n",
      "building tree 465 of 500\n",
      "building tree 466 of 500\n",
      "building tree 467 of 500\n",
      "building tree 468 of 500\n",
      "building tree 469 of 500\n",
      "building tree 470 of 500\n",
      "building tree 471 of 500\n",
      "building tree 472 of 500\n",
      "building tree 473 of 500\n",
      "building tree 474 of 500\n",
      "building tree 475 of 500\n",
      "building tree 476 of 500\n",
      "building tree 477 of 500\n",
      "building tree 478 of 500\n",
      "building tree 479 of 500\n",
      "building tree 480 of 500\n",
      "building tree 481 of 500\n",
      "building tree 482 of 500\n",
      "building tree 483 of 500\n",
      "building tree 484 of 500\n",
      "building tree 485 of 500\n",
      "building tree 486 of 500\n",
      "building tree 487 of 500\n",
      "building tree 488 of 500\n",
      "building tree 489 of 500\n",
      "building tree 490 of 500\n",
      "building tree 491 of 500\n",
      "building tree 492 of 500\n",
      "building tree 493 of 500\n",
      "building tree 494 of 500\n",
      "building tree 495 of 500\n",
      "building tree 496 of 500\n",
      "building tree 497 of 500\n",
      "building tree 498 of 500\n",
      "building tree 499 of 500\n",
      "building tree 500 of 500\n"
     ]
    },
    {
     "name": "stderr",
     "output_type": "stream",
     "text": [
      "[Parallel(n_jobs=1)]: Done 500 out of 500 | elapsed:   26.7s finished\n"
     ]
    },
    {
     "data": {
      "text/plain": [
       "RandomForestRegressor(bootstrap=True, ccp_alpha=0.0, criterion='mse',\n",
       "                      max_depth=None, max_features=3, max_leaf_nodes=None,\n",
       "                      max_samples=None, min_impurity_decrease=0.0,\n",
       "                      min_impurity_split=None, min_samples_leaf=5,\n",
       "                      min_samples_split=2, min_weight_fraction_leaf=0.0,\n",
       "                      n_estimators=500, n_jobs=None, oob_score=False,\n",
       "                      random_state=88, verbose=2, warm_start=False)"
      ]
     },
     "execution_count": 28,
     "metadata": {
      "tags": []
     },
     "output_type": "execute_result"
    }
   ],
   "source": [
    "# train Random Forest model\n",
    "\n",
    "rf = RandomForestRegressor(max_features=3, min_samples_leaf=5, \n",
    "                           n_estimators = 500, random_state=88, verbose=2)\n",
    "rf.fit(rf_X_train, rf_y_train)"
   ]
  },
  {
   "cell_type": "code",
   "execution_count": null,
   "metadata": {
    "colab": {
     "base_uri": "https://localhost:8080/",
     "height": 142
    },
    "id": "9lhiU2zO1SOZ",
    "outputId": "9cbd9898-a8bf-4fea-e5e1-08838a2b14fa"
   },
   "outputs": [
    {
     "data": {
      "text/html": [
       "<div>\n",
       "<style scoped>\n",
       "    .dataframe tbody tr th:only-of-type {\n",
       "        vertical-align: middle;\n",
       "    }\n",
       "\n",
       "    .dataframe tbody tr th {\n",
       "        vertical-align: top;\n",
       "    }\n",
       "\n",
       "    .dataframe thead th {\n",
       "        text-align: right;\n",
       "    }\n",
       "</style>\n",
       "<table border=\"1\" class=\"dataframe\">\n",
       "  <thead>\n",
       "    <tr style=\"text-align: right;\">\n",
       "      <th></th>\n",
       "      <th>Feature</th>\n",
       "      <th>Importance score</th>\n",
       "    </tr>\n",
       "  </thead>\n",
       "  <tbody>\n",
       "    <tr>\n",
       "      <th>0</th>\n",
       "      <td>ShortTermAssets</td>\n",
       "      <td>0.644</td>\n",
       "    </tr>\n",
       "    <tr>\n",
       "      <th>1</th>\n",
       "      <td>NetIncome</td>\n",
       "      <td>0.253</td>\n",
       "    </tr>\n",
       "    <tr>\n",
       "      <th>2</th>\n",
       "      <td>ShortTermLiabilities</td>\n",
       "      <td>0.104</td>\n",
       "    </tr>\n",
       "  </tbody>\n",
       "</table>\n",
       "</div>"
      ],
      "text/plain": [
       "                Feature  Importance score\n",
       "0       ShortTermAssets             0.644\n",
       "1             NetIncome             0.253\n",
       "2  ShortTermLiabilities             0.104"
      ]
     },
     "execution_count": 29,
     "metadata": {
      "tags": []
     },
     "output_type": "execute_result"
    }
   ],
   "source": [
    "#display feature importances\n",
    "\n",
    "pd.DataFrame({'Feature' : rf_X_train.columns, \n",
    "              'Importance score': rf.feature_importances_}).round(3) #This is all excluding the dummy variables for specific company tickers"
   ]
  },
  {
   "cell_type": "code",
   "execution_count": null,
   "metadata": {
    "colab": {
     "base_uri": "https://localhost:8080/"
    },
    "id": "qEUA7BbNcqat",
    "outputId": "7b50e503-0007-4a61-d942-ace837ce6b36"
   },
   "outputs": [
    {
     "name": "stderr",
     "output_type": "stream",
     "text": [
      "[Parallel(n_jobs=1)]: Using backend SequentialBackend with 1 concurrent workers.\n",
      "[Parallel(n_jobs=1)]: Done   1 out of   1 | elapsed:    0.0s remaining:    0.0s\n",
      "[Parallel(n_jobs=1)]: Done 500 out of 500 | elapsed:    0.5s finished\n"
     ]
    },
    {
     "data": {
      "text/plain": [
       "0.6584777329599901"
      ]
     },
     "execution_count": 30,
     "metadata": {
      "tags": []
     },
     "output_type": "execute_result"
    }
   ],
   "source": [
    "#compute OSR^2 of RandomForests Model\n",
    "\n",
    "osr2_rf = OSR2(rf, rf_X_test, rf_y_test, rf_y_train)\n",
    "osr2_rf"
   ]
  },
  {
   "cell_type": "code",
   "execution_count": null,
   "metadata": {
    "colab": {
     "base_uri": "https://localhost:8080/"
    },
    "id": "antWIss2yPan",
    "outputId": "5750eb26-e626-431e-ae93-41ea26c8913d"
   },
   "outputs": [
    {
     "name": "stderr",
     "output_type": "stream",
     "text": [
      "[Parallel(n_jobs=1)]: Using backend SequentialBackend with 1 concurrent workers.\n",
      "[Parallel(n_jobs=1)]: Done   1 out of   1 | elapsed:    0.0s remaining:    0.0s\n",
      "[Parallel(n_jobs=1)]: Done 500 out of 500 | elapsed:    0.5s finished\n",
      "[Parallel(n_jobs=1)]: Using backend SequentialBackend with 1 concurrent workers.\n",
      "[Parallel(n_jobs=1)]: Done   1 out of   1 | elapsed:    0.0s remaining:    0.0s\n",
      "[Parallel(n_jobs=1)]: Done 500 out of 500 | elapsed:    0.5s finished\n"
     ]
    },
    {
     "data": {
      "text/plain": [
       "(1.1176709413979067, 2.6389791950568307)"
      ]
     },
     "execution_count": 31,
     "metadata": {
      "tags": []
     },
     "output_type": "execute_result"
    }
   ],
   "source": [
    "#compute MSE and MAE of RandomForests Model\n",
    "\n",
    "mse_rf = MSE(rf, rf_X_test, rf_y_test, rf_y_train)\n",
    "mae_rf = MAE(rf, rf_X_test, rf_y_test, rf_y_train)\n",
    "mae_rf, mse_rf"
   ]
  },
  {
   "cell_type": "code",
   "execution_count": null,
   "metadata": {
    "colab": {
     "base_uri": "https://localhost:8080/",
     "height": 636
    },
    "id": "AOgGjnD7mXcM",
    "outputId": "a63ff44c-1c33-4082-bb9c-e3c02f7f67a9"
   },
   "outputs": [
    {
     "name": "stderr",
     "output_type": "stream",
     "text": [
      "[Parallel(n_jobs=1)]: Using backend SequentialBackend with 1 concurrent workers.\n",
      "[Parallel(n_jobs=1)]: Done   1 out of   1 | elapsed:    0.0s remaining:    0.0s\n",
      "[Parallel(n_jobs=1)]: Done 500 out of 500 | elapsed:    0.5s finished\n"
     ]
    },
    {
     "data": {
      "image/png": "[encoded data removed]",
      "text/plain": [
       "<Figure size 864x576 with 1 Axes>"
      ]
     },
     "metadata": {
      "needs_background": "light",
      "tags": []
     },
     "output_type": "display_data"
    }
   ],
   "source": [
    "\n",
    "#adapted from lab 7\n",
    "\n",
    "plt.figure(figsize=(12, 8))\n",
    "plt.title('Market Cap Real vs Predicted')\n",
    "plt.xlabel('Real', fontsize=16)\n",
    "plt.ylabel('Predicted', fontsize=16)\n",
    "plt.scatter(rf_y_test, rf.predict(rf_X_test))\n",
    "plt.grid(True, which='both')\n",
    "\n",
    "plt.tight_layout()\n",
    "plt.show()"
   ]
  },
  {
   "cell_type": "code",
   "execution_count": null,
   "metadata": {
    "colab": {
     "base_uri": "https://localhost:8080/",
     "height": 636
    },
    "id": "LoWHiOdbsQq8",
    "outputId": "d6af4a3b-b077-4254-f0aa-1a6e04c12161"
   },
   "outputs": [
    {
     "name": "stderr",
     "output_type": "stream",
     "text": [
      "[Parallel(n_jobs=1)]: Using backend SequentialBackend with 1 concurrent workers.\n",
      "[Parallel(n_jobs=1)]: Done   1 out of   1 | elapsed:    0.0s remaining:    0.0s\n",
      "[Parallel(n_jobs=1)]: Done 500 out of 500 | elapsed:    0.5s finished\n"
     ]
    },
    {
     "data": {
      "image/png": "[encoded data removed]",
      "text/plain": [
       "<Figure size 864x576 with 1 Axes>"
      ]
     },
     "metadata": {
      "needs_background": "light",
      "tags": []
     },
     "output_type": "display_data"
    }
   ],
   "source": [
    "#Experimental model that exponentiates data to achieve higher OSR^2\n",
    "\n",
    "plt.figure(figsize=(12, 8))\n",
    "plt.title('Market Cap cubed, Real vs Predicted')\n",
    "plt.xlabel('Real', fontsize=16)\n",
    "plt.ylabel('Predicted', fontsize=16)\n",
    "plt.scatter(rf_y_test**3, rf.predict(rf_X_test)**3)\n",
    "plt.grid(True, which='both')\n",
    "\n",
    "plt.tight_layout()\n",
    "plt.show()"
   ]
  },
  {
   "cell_type": "code",
   "execution_count": null,
   "metadata": {
    "colab": {
     "base_uri": "https://localhost:8080/"
    },
    "id": "2hDcSPCmscSJ",
    "outputId": "e2d6341a-f39d-4afd-b0cd-571d86e6d6c7"
   },
   "outputs": [
    {
     "name": "stderr",
     "output_type": "stream",
     "text": [
      "[Parallel(n_jobs=1)]: Using backend SequentialBackend with 1 concurrent workers.\n",
      "[Parallel(n_jobs=1)]: Done   1 out of   1 | elapsed:    0.0s remaining:    0.0s\n",
      "[Parallel(n_jobs=1)]: Done 500 out of 500 | elapsed:    0.5s finished\n"
     ]
    },
    {
     "data": {
      "text/plain": [
       "0.7277841864166512"
      ]
     },
     "execution_count": 34,
     "metadata": {
      "tags": []
     },
     "output_type": "execute_result"
    }
   ],
   "source": [
    "# cubing data results in model with higher OSR^2\n",
    "OSR2_no_model(rf.predict(rf_X_test)**3, rf_y_test**3, rf_y_train**3)"
   ]
  },
  {
   "cell_type": "markdown",
   "metadata": {
    "id": "y1n7xrkXfwQJ"
   },
   "source": [
    "# Blended Linear Regression"
   ]
  },
  {
   "cell_type": "code",
   "execution_count": null,
   "metadata": {
    "id": "Swl9NSv5lF_I"
   },
   "outputs": [],
   "source": [
    "##### Blended Log-Log\n",
    "\n",
    "final_LR_model = lr_new\n",
    "final_CART_model = log_dtr_cv\n",
    "final_RF_model = rf"
   ]
  },
  {
   "cell_type": "code",
   "execution_count": null,
   "metadata": {
    "colab": {
     "base_uri": "https://localhost:8080/",
     "height": 470
    },
    "id": "imKFGskqGf1g",
    "outputId": "c142219b-c40c-4ca8-8a72-a852b832990f"
   },
   "outputs": [
    {
     "name": "stderr",
     "output_type": "stream",
     "text": [
      "[Parallel(n_jobs=1)]: Using backend SequentialBackend with 1 concurrent workers.\n",
      "[Parallel(n_jobs=1)]: Done   1 out of   1 | elapsed:    0.0s remaining:    0.0s\n",
      "[Parallel(n_jobs=1)]: Done 500 out of 500 | elapsed:    0.5s finished\n"
     ]
    },
    {
     "data": {
      "text/html": [
       "<div>\n",
       "<style scoped>\n",
       "    .dataframe tbody tr th:only-of-type {\n",
       "        vertical-align: middle;\n",
       "    }\n",
       "\n",
       "    .dataframe tbody tr th {\n",
       "        vertical-align: top;\n",
       "    }\n",
       "\n",
       "    .dataframe thead th {\n",
       "        text-align: right;\n",
       "    }\n",
       "</style>\n",
       "<table border=\"1\" class=\"dataframe\">\n",
       "  <thead>\n",
       "    <tr style=\"text-align: right;\">\n",
       "      <th></th>\n",
       "      <th>LinearRegressionPrediction</th>\n",
       "      <th>CARTPrediction</th>\n",
       "      <th>RandomForestsPrediction</th>\n",
       "      <th>RealMarketCap</th>\n",
       "    </tr>\n",
       "  </thead>\n",
       "  <tbody>\n",
       "    <tr>\n",
       "      <th>17488</th>\n",
       "      <td>20.880541</td>\n",
       "      <td>21.012626</td>\n",
       "      <td>20.939949</td>\n",
       "      <td>20.799433</td>\n",
       "    </tr>\n",
       "    <tr>\n",
       "      <th>17491</th>\n",
       "      <td>22.253199</td>\n",
       "      <td>22.278932</td>\n",
       "      <td>22.521373</td>\n",
       "      <td>23.269729</td>\n",
       "    </tr>\n",
       "    <tr>\n",
       "      <th>17499</th>\n",
       "      <td>21.378889</td>\n",
       "      <td>21.012626</td>\n",
       "      <td>22.054048</td>\n",
       "      <td>22.279842</td>\n",
       "    </tr>\n",
       "    <tr>\n",
       "      <th>17505</th>\n",
       "      <td>20.719453</td>\n",
       "      <td>21.012626</td>\n",
       "      <td>20.483946</td>\n",
       "      <td>21.110527</td>\n",
       "    </tr>\n",
       "    <tr>\n",
       "      <th>17510</th>\n",
       "      <td>21.822396</td>\n",
       "      <td>21.428629</td>\n",
       "      <td>21.583811</td>\n",
       "      <td>21.361458</td>\n",
       "    </tr>\n",
       "    <tr>\n",
       "      <th>...</th>\n",
       "      <td>...</td>\n",
       "      <td>...</td>\n",
       "      <td>...</td>\n",
       "      <td>...</td>\n",
       "    </tr>\n",
       "    <tr>\n",
       "      <th>23421</th>\n",
       "      <td>19.253726</td>\n",
       "      <td>20.121355</td>\n",
       "      <td>20.281110</td>\n",
       "      <td>20.435214</td>\n",
       "    </tr>\n",
       "    <tr>\n",
       "      <th>23422</th>\n",
       "      <td>21.048961</td>\n",
       "      <td>21.012626</td>\n",
       "      <td>21.408384</td>\n",
       "      <td>22.301279</td>\n",
       "    </tr>\n",
       "    <tr>\n",
       "      <th>23423</th>\n",
       "      <td>19.727042</td>\n",
       "      <td>19.348507</td>\n",
       "      <td>19.262176</td>\n",
       "      <td>21.765007</td>\n",
       "    </tr>\n",
       "    <tr>\n",
       "      <th>23424</th>\n",
       "      <td>16.258198</td>\n",
       "      <td>18.150295</td>\n",
       "      <td>18.042664</td>\n",
       "      <td>19.341727</td>\n",
       "    </tr>\n",
       "    <tr>\n",
       "      <th>23425</th>\n",
       "      <td>18.436946</td>\n",
       "      <td>18.810287</td>\n",
       "      <td>18.250813</td>\n",
       "      <td>14.434069</td>\n",
       "    </tr>\n",
       "  </tbody>\n",
       "</table>\n",
       "<p>5382 rows × 4 columns</p>\n",
       "</div>"
      ],
      "text/plain": [
       "       LinearRegressionPrediction  ...  RealMarketCap\n",
       "17488                   20.880541  ...      20.799433\n",
       "17491                   22.253199  ...      23.269729\n",
       "17499                   21.378889  ...      22.279842\n",
       "17505                   20.719453  ...      21.110527\n",
       "17510                   21.822396  ...      21.361458\n",
       "...                           ...  ...            ...\n",
       "23421                   19.253726  ...      20.435214\n",
       "23422                   21.048961  ...      22.301279\n",
       "23423                   19.727042  ...      21.765007\n",
       "23424                   16.258198  ...      19.341727\n",
       "23425                   18.436946  ...      14.434069\n",
       "\n",
       "[5382 rows x 4 columns]"
      ]
     },
     "execution_count": 36,
     "metadata": {
      "tags": []
     },
     "output_type": "execute_result"
    }
   ],
   "source": [
    "blended_log_df = pd.DataFrame()\n",
    "blended_log_df['LinearRegressionPrediction'] = final_LR_model.predict(logX_test)\n",
    "blended_log_df['CARTPrediction'] = final_CART_model.predict(logX_test)\n",
    "blended_log_df['RandomForestsPrediction'] = final_RF_model.predict(logX_test)\n",
    "blended_log_df['RealMarketCap'] = logy_test\n",
    "blended_log_df"
   ]
  },
  {
   "cell_type": "code",
   "execution_count": null,
   "metadata": {
    "colab": {
     "base_uri": "https://localhost:8080/",
     "height": 486
    },
    "id": "Aa72KRgPLnN9",
    "outputId": "e45d0aac-31cd-4901-e3fd-1dcd98d0bc85"
   },
   "outputs": [
    {
     "data": {
      "text/html": [
       "<table class=\"simpletable\">\n",
       "<caption>OLS Regression Results</caption>\n",
       "<tr>\n",
       "  <th>Dep. Variable:</th>      <td>RealMarketCap</td>  <th>  R-squared:         </th> <td>   0.720</td> \n",
       "</tr>\n",
       "<tr>\n",
       "  <th>Model:</th>                   <td>OLS</td>       <th>  Adj. R-squared:    </th> <td>   0.719</td> \n",
       "</tr>\n",
       "<tr>\n",
       "  <th>Method:</th>             <td>Least Squares</td>  <th>  F-statistic:       </th> <td>   4602.</td> \n",
       "</tr>\n",
       "<tr>\n",
       "  <th>Date:</th>             <td>Wed, 12 May 2021</td> <th>  Prob (F-statistic):</th>  <td>  0.00</td>  \n",
       "</tr>\n",
       "<tr>\n",
       "  <th>Time:</th>                 <td>23:02:24</td>     <th>  Log-Likelihood:    </th> <td> -9716.7</td> \n",
       "</tr>\n",
       "<tr>\n",
       "  <th>No. Observations:</th>      <td>  5382</td>      <th>  AIC:               </th> <td>1.944e+04</td>\n",
       "</tr>\n",
       "<tr>\n",
       "  <th>Df Residuals:</th>          <td>  5378</td>      <th>  BIC:               </th> <td>1.947e+04</td>\n",
       "</tr>\n",
       "<tr>\n",
       "  <th>Df Model:</th>              <td>     3</td>      <th>                     </th>     <td> </td>    \n",
       "</tr>\n",
       "<tr>\n",
       "  <th>Covariance Type:</th>      <td>nonrobust</td>    <th>                     </th>     <td> </td>    \n",
       "</tr>\n",
       "</table>\n",
       "<table class=\"simpletable\">\n",
       "<tr>\n",
       "               <td></td>                 <th>coef</th>     <th>std err</th>      <th>t</th>      <th>P>|t|</th>  <th>[0.025</th>    <th>0.975]</th>  \n",
       "</tr>\n",
       "<tr>\n",
       "  <th>Intercept</th>                  <td>   -6.2004</td> <td>    0.234</td> <td>  -26.492</td> <td> 0.000</td> <td>   -6.659</td> <td>   -5.742</td>\n",
       "</tr>\n",
       "<tr>\n",
       "  <th>LinearRegressionPrediction</th> <td>    0.4971</td> <td>    0.028</td> <td>   17.922</td> <td> 0.000</td> <td>    0.443</td> <td>    0.551</td>\n",
       "</tr>\n",
       "<tr>\n",
       "  <th>CARTPrediction</th>             <td>    0.3919</td> <td>    0.036</td> <td>   10.805</td> <td> 0.000</td> <td>    0.321</td> <td>    0.463</td>\n",
       "</tr>\n",
       "<tr>\n",
       "  <th>RandomForestsPrediction</th>    <td>    0.4040</td> <td>    0.033</td> <td>   12.428</td> <td> 0.000</td> <td>    0.340</td> <td>    0.468</td>\n",
       "</tr>\n",
       "</table>\n",
       "<table class=\"simpletable\">\n",
       "<tr>\n",
       "  <th>Omnibus:</th>       <td>1812.539</td> <th>  Durbin-Watson:     </th> <td>   1.957</td> \n",
       "</tr>\n",
       "<tr>\n",
       "  <th>Prob(Omnibus):</th>  <td> 0.000</td>  <th>  Jarque-Bera (JB):  </th> <td>27477.307</td>\n",
       "</tr>\n",
       "<tr>\n",
       "  <th>Skew:</th>           <td>-1.191</td>  <th>  Prob(JB):          </th> <td>    0.00</td> \n",
       "</tr>\n",
       "<tr>\n",
       "  <th>Kurtosis:</th>       <td>13.810</td>  <th>  Cond. No.          </th> <td>    410.</td> \n",
       "</tr>\n",
       "</table><br/><br/>Warnings:<br/>[1] Standard Errors assume that the covariance matrix of the errors is correctly specified."
      ],
      "text/plain": [
       "<class 'statsmodels.iolib.summary.Summary'>\n",
       "\"\"\"\n",
       "                            OLS Regression Results                            \n",
       "==============================================================================\n",
       "Dep. Variable:          RealMarketCap   R-squared:                       0.720\n",
       "Model:                            OLS   Adj. R-squared:                  0.719\n",
       "Method:                 Least Squares   F-statistic:                     4602.\n",
       "Date:                Wed, 12 May 2021   Prob (F-statistic):               0.00\n",
       "Time:                        23:02:24   Log-Likelihood:                -9716.7\n",
       "No. Observations:                5382   AIC:                         1.944e+04\n",
       "Df Residuals:                    5378   BIC:                         1.947e+04\n",
       "Df Model:                           3                                         \n",
       "Covariance Type:            nonrobust                                         \n",
       "==============================================================================================\n",
       "                                 coef    std err          t      P>|t|      [0.025      0.975]\n",
       "----------------------------------------------------------------------------------------------\n",
       "Intercept                     -6.2004      0.234    -26.492      0.000      -6.659      -5.742\n",
       "LinearRegressionPrediction     0.4971      0.028     17.922      0.000       0.443       0.551\n",
       "CARTPrediction                 0.3919      0.036     10.805      0.000       0.321       0.463\n",
       "RandomForestsPrediction        0.4040      0.033     12.428      0.000       0.340       0.468\n",
       "==============================================================================\n",
       "Omnibus:                     1812.539   Durbin-Watson:                   1.957\n",
       "Prob(Omnibus):                  0.000   Jarque-Bera (JB):            27477.307\n",
       "Skew:                          -1.191   Prob(JB):                         0.00\n",
       "Kurtosis:                      13.810   Cond. No.                         410.\n",
       "==============================================================================\n",
       "\n",
       "Warnings:\n",
       "[1] Standard Errors assume that the covariance matrix of the errors is correctly specified.\n",
       "\"\"\""
      ]
     },
     "execution_count": 37,
     "metadata": {
      "tags": []
     },
     "output_type": "execute_result"
    }
   ],
   "source": [
    "#define blended model and get \n",
    "\n",
    "blended_log_model = smf.ols(formula='RealMarketCap ~ LinearRegressionPrediction + CARTPrediction + RandomForestsPrediction', data=blended_log_df).fit()\n",
    "blended_log_model.summary()"
   ]
  },
  {
   "cell_type": "code",
   "execution_count": null,
   "metadata": {
    "colab": {
     "base_uri": "https://localhost:8080/",
     "height": 439
    },
    "id": "Ow_2WBfTU6HP",
    "outputId": "40f9b8a1-82e3-487c-bb3c-5a3398ff5209"
   },
   "outputs": [
    {
     "data": {
      "text/html": [
       "<div>\n",
       "<style scoped>\n",
       "    .dataframe tbody tr th:only-of-type {\n",
       "        vertical-align: middle;\n",
       "    }\n",
       "\n",
       "    .dataframe tbody tr th {\n",
       "        vertical-align: top;\n",
       "    }\n",
       "\n",
       "    .dataframe thead th {\n",
       "        text-align: right;\n",
       "    }\n",
       "</style>\n",
       "<table border=\"1\" class=\"dataframe\">\n",
       "  <thead>\n",
       "    <tr style=\"text-align: right;\">\n",
       "      <th></th>\n",
       "      <th>LinearRegressionPrediction</th>\n",
       "      <th>CARTPrediction</th>\n",
       "      <th>RandomForestsPrediction</th>\n",
       "      <th>RealMarketCap</th>\n",
       "      <th>BlendedPrediction</th>\n",
       "    </tr>\n",
       "  </thead>\n",
       "  <tbody>\n",
       "    <tr>\n",
       "      <th>17488</th>\n",
       "      <td>20.880541</td>\n",
       "      <td>21.012626</td>\n",
       "      <td>20.939949</td>\n",
       "      <td>20.799433</td>\n",
       "      <td>20.870762</td>\n",
       "    </tr>\n",
       "    <tr>\n",
       "      <th>17491</th>\n",
       "      <td>22.253199</td>\n",
       "      <td>22.278932</td>\n",
       "      <td>22.521373</td>\n",
       "      <td>23.269729</td>\n",
       "      <td>22.694764</td>\n",
       "    </tr>\n",
       "    <tr>\n",
       "      <th>17499</th>\n",
       "      <td>21.378889</td>\n",
       "      <td>21.012626</td>\n",
       "      <td>22.054048</td>\n",
       "      <td>22.279842</td>\n",
       "      <td>21.600298</td>\n",
       "    </tr>\n",
       "    <tr>\n",
       "      <th>17505</th>\n",
       "      <td>20.719453</td>\n",
       "      <td>21.012626</td>\n",
       "      <td>20.483946</td>\n",
       "      <td>21.110527</td>\n",
       "      <td>20.592939</td>\n",
       "    </tr>\n",
       "    <tr>\n",
       "      <th>17510</th>\n",
       "      <td>21.822396</td>\n",
       "      <td>21.428629</td>\n",
       "      <td>21.583811</td>\n",
       "      <td>21.361458</td>\n",
       "      <td>21.762297</td>\n",
       "    </tr>\n",
       "    <tr>\n",
       "      <th>...</th>\n",
       "      <td>...</td>\n",
       "      <td>...</td>\n",
       "      <td>...</td>\n",
       "      <td>...</td>\n",
       "      <td>...</td>\n",
       "    </tr>\n",
       "    <tr>\n",
       "      <th>23421</th>\n",
       "      <td>19.253726</td>\n",
       "      <td>20.121355</td>\n",
       "      <td>20.281110</td>\n",
       "      <td>20.435214</td>\n",
       "      <td>19.465855</td>\n",
       "    </tr>\n",
       "    <tr>\n",
       "      <th>23422</th>\n",
       "      <td>21.048961</td>\n",
       "      <td>21.012626</td>\n",
       "      <td>21.408384</td>\n",
       "      <td>22.301279</td>\n",
       "      <td>21.157583</td>\n",
       "    </tr>\n",
       "    <tr>\n",
       "      <th>23423</th>\n",
       "      <td>19.727042</td>\n",
       "      <td>19.348507</td>\n",
       "      <td>19.262176</td>\n",
       "      <td>21.765007</td>\n",
       "      <td>18.964296</td>\n",
       "    </tr>\n",
       "    <tr>\n",
       "      <th>23424</th>\n",
       "      <td>16.258198</td>\n",
       "      <td>18.150295</td>\n",
       "      <td>18.042664</td>\n",
       "      <td>19.341727</td>\n",
       "      <td>16.308312</td>\n",
       "    </tr>\n",
       "    <tr>\n",
       "      <th>23425</th>\n",
       "      <td>18.436946</td>\n",
       "      <td>18.810287</td>\n",
       "      <td>18.250813</td>\n",
       "      <td>14.434069</td>\n",
       "      <td>17.698048</td>\n",
       "    </tr>\n",
       "  </tbody>\n",
       "</table>\n",
       "<p>5382 rows × 5 columns</p>\n",
       "</div>"
      ],
      "text/plain": [
       "       LinearRegressionPrediction  ...  BlendedPrediction\n",
       "17488                   20.880541  ...          20.870762\n",
       "17491                   22.253199  ...          22.694764\n",
       "17499                   21.378889  ...          21.600298\n",
       "17505                   20.719453  ...          20.592939\n",
       "17510                   21.822396  ...          21.762297\n",
       "...                           ...  ...                ...\n",
       "23421                   19.253726  ...          19.465855\n",
       "23422                   21.048961  ...          21.157583\n",
       "23423                   19.727042  ...          18.964296\n",
       "23424                   16.258198  ...          16.308312\n",
       "23425                   18.436946  ...          17.698048\n",
       "\n",
       "[5382 rows x 5 columns]"
      ]
     },
     "execution_count": 38,
     "metadata": {
      "tags": []
     },
     "output_type": "execute_result"
    }
   ],
   "source": [
    "# Blended model yields: MarketCap = 0.4845*LinearRegression + 0.3681*CART + 0.4381*RandomForests - 6.1544\n",
    "#R^2 is .720\n",
    "\n",
    "# using coefficients from above\n",
    "blended_log_df['BlendedPrediction'] = 0.4845*blended_log_df['LinearRegressionPrediction'] \\\n",
    "                                                + 0.3681*blended_log_df['CARTPrediction'] \\\n",
    "                                                + 0.4381*blended_log_df['RandomForestsPrediction'] \\\n",
    "                                                - 6.1544\n",
    "blended_log_df"
   ]
  },
  {
   "cell_type": "code",
   "execution_count": null,
   "metadata": {
    "colab": {
     "base_uri": "https://localhost:8080/"
    },
    "id": "SJvdVVkbV7YB",
    "outputId": "4e077ab1-5424-4a6c-9a33-2c96cdf8056a"
   },
   "outputs": [
    {
     "data": {
      "text/plain": [
       "(2.1665694279261847, 1.0032637369903088)"
      ]
     },
     "execution_count": 39,
     "metadata": {
      "tags": []
     },
     "output_type": "execute_result"
    }
   ],
   "source": [
    "#MAE(blended_log_model, logX_test, logy_test, logy_train), MSE(blended_log_model, logX_test, logy_test, logy_train)\n",
    "\n",
    "mae_blended = MAE_no_model(blended_log_df['BlendedPrediction'], logy_test)\n",
    "mse_blended = MSE_no_model(blended_log_df['BlendedPrediction'], logy_test)\n",
    "mse_blended, mae_blended"
   ]
  },
  {
   "cell_type": "code",
   "execution_count": null,
   "metadata": {
    "colab": {
     "base_uri": "https://localhost:8080/"
    },
    "id": "ZVNh3eSYfRP5",
    "outputId": "2a86d203-023b-4a14-d785-ccb0d3d096a5"
   },
   "outputs": [
    {
     "data": {
      "text/plain": [
       "0.7196144235957145"
      ]
     },
     "execution_count": 40,
     "metadata": {
      "tags": []
     },
     "output_type": "execute_result"
    }
   ],
   "source": [
    "osr2_blended = OSR2_no_model(blended_log_df['BlendedPrediction'], logy_test, logy_train)\n",
    "osr2_blended"
   ]
  },
  {
   "cell_type": "code",
   "execution_count": null,
   "metadata": {
    "colab": {
     "base_uri": "https://localhost:8080/",
     "height": 204
    },
    "id": "QfkdxBLwYLST",
    "outputId": "2aaadeb1-c6da-4e8e-fe2c-6486d31c7056"
   },
   "outputs": [
    {
     "data": {
      "text/html": [
       "<div>\n",
       "<style scoped>\n",
       "    .dataframe tbody tr th:only-of-type {\n",
       "        vertical-align: middle;\n",
       "    }\n",
       "\n",
       "    .dataframe tbody tr th {\n",
       "        vertical-align: top;\n",
       "    }\n",
       "\n",
       "    .dataframe thead th {\n",
       "        text-align: right;\n",
       "    }\n",
       "</style>\n",
       "<table border=\"1\" class=\"dataframe\">\n",
       "  <thead>\n",
       "    <tr style=\"text-align: right;\">\n",
       "      <th></th>\n",
       "      <th>OSR2</th>\n",
       "      <th>MSE</th>\n",
       "      <th>MAE</th>\n",
       "    </tr>\n",
       "    <tr>\n",
       "      <th>Model</th>\n",
       "      <th></th>\n",
       "      <th></th>\n",
       "      <th></th>\n",
       "    </tr>\n",
       "  </thead>\n",
       "  <tbody>\n",
       "    <tr>\n",
       "      <th>LinearRegression</th>\n",
       "      <td>0.621</td>\n",
       "      <td>2.932</td>\n",
       "      <td>1.252</td>\n",
       "    </tr>\n",
       "    <tr>\n",
       "      <th>CART</th>\n",
       "      <td>0.659</td>\n",
       "      <td>2.638</td>\n",
       "      <td>1.137</td>\n",
       "    </tr>\n",
       "    <tr>\n",
       "      <th>RandomForests</th>\n",
       "      <td>0.658</td>\n",
       "      <td>2.639</td>\n",
       "      <td>1.118</td>\n",
       "    </tr>\n",
       "    <tr>\n",
       "      <th>Blended</th>\n",
       "      <td>0.720</td>\n",
       "      <td>2.167</td>\n",
       "      <td>1.003</td>\n",
       "    </tr>\n",
       "  </tbody>\n",
       "</table>\n",
       "</div>"
      ],
      "text/plain": [
       "                   OSR2    MSE    MAE\n",
       "Model                                \n",
       "LinearRegression  0.621  2.932  1.252\n",
       "CART              0.659  2.638  1.137\n",
       "RandomForests     0.658  2.639  1.118\n",
       "Blended           0.720  2.167  1.003"
      ]
     },
     "execution_count": 41,
     "metadata": {
      "tags": []
     },
     "output_type": "execute_result"
    }
   ],
   "source": [
    "results_table = pd.DataFrame()\n",
    "results_table['Model'] = pd.Series(data=['LinearRegression', 'CART', 'RandomForests', 'Blended'])\n",
    "results_table['OSR2'] = pd.Series(data=[osr2_lr, osr2_cart, osr2_rf, osr2_blended])\n",
    "results_table['MSE'] = pd.Series(data=[mse_lr, mse_cart, mse_rf, mse_blended])\n",
    "results_table['MAE'] = pd.Series(data=[mae_lr, mae_cart, mae_rf, mae_blended])\n",
    "results_table = results_table.set_index('Model').round(decimals=3)\n",
    "results_table"
   ]
  },
  {
   "cell_type": "code",
   "execution_count": null,
   "metadata": {
    "colab": {
     "base_uri": "https://localhost:8080/",
     "height": 585
    },
    "id": "4Na3EkeJfkR-",
    "outputId": "9f6a0b6c-9e57-4271-97bd-331137f5d68e"
   },
   "outputs": [
    {
     "data": {
      "image/png": "[encoded data removed]",
      "text/plain": [
       "<Figure size 864x576 with 1 Axes>"
      ]
     },
     "metadata": {
      "needs_background": "light",
      "tags": []
     },
     "output_type": "display_data"
    }
   ],
   "source": [
    "plt.figure(figsize=(12, 8))\n",
    "plt.title('Market Cap Real vs Predicted')\n",
    "plt.xlabel('Real', fontsize=16)\n",
    "plt.ylabel('Predicted', fontsize=16)\n",
    "plt.scatter(logy_test, blended_log_df['BlendedPrediction'])\n",
    "plt.grid(True, which='both')\n",
    "plt.tight_layout()\n",
    "plt.show()"
   ]
  },
  {
   "cell_type": "code",
   "execution_count": null,
   "metadata": {
    "colab": {
     "base_uri": "https://localhost:8080/",
     "height": 585
    },
    "id": "_kIwbjAKh_A_",
    "outputId": "f83343eb-0d80-4efb-ce91-1e8c43c73d02"
   },
   "outputs": [
    {
     "data": {
      "image/png": "[encoded data removed]",
      "text/plain": [
       "<Figure size 864x576 with 1 Axes>"
      ]
     },
     "metadata": {
      "needs_background": "light",
      "tags": []
     },
     "output_type": "display_data"
    }
   ],
   "source": [
    "# determine exponent (graphically) that will yield highest OSR^2 with an exponential transformation of the data\n",
    "plt.figure(figsize=(12, 8))\n",
    "plt.title('OSR2 of varying exponents')\n",
    "plt.xlabel('Exponent values', fontsize=16)\n",
    "plt.ylabel('OSR2', fontsize=16)\n",
    "plt.scatter([i for i in range(1, 11)], [OSR2_no_model(blended_log_df['BlendedPrediction']**i, logy_test**i, logy_train**i) for i in range(1, 11)])\n",
    "plt.grid(True, which='both')\n",
    "plt.tight_layout()\n",
    "plt.show()"
   ]
  },
  {
   "cell_type": "code",
   "execution_count": null,
   "metadata": {
    "colab": {
     "base_uri": "https://localhost:8080/",
     "height": 585
    },
    "id": "AwtIgtHCitHO",
    "outputId": "c1f89162-ecf2-4f19-c771-71bf8f0ce807"
   },
   "outputs": [
    {
     "data": {
      "image/png": "[encoded data removed]",
      "text/plain": [
       "<Figure size 864x576 with 1 Axes>"
      ]
     },
     "metadata": {
      "needs_background": "light",
      "tags": []
     },
     "output_type": "display_data"
    }
   ],
   "source": [
    "# Eyeballing the above graph, looks like exponent of 5 yields highest OSR2\n",
    "plt.figure(figsize=(12, 8))\n",
    "plt.title('Market Cap^5 Real vs Blended Predictions')\n",
    "plt.xlabel('Real', fontsize=16)\n",
    "plt.ylabel('Predicted', fontsize=16)\n",
    "plt.scatter(logy_test**5, blended_log_df['BlendedPrediction']**5)\n",
    "plt.grid(True, which='both')\n",
    "plt.tight_layout()\n",
    "plt.show()"
   ]
  },
  {
   "cell_type": "code",
   "execution_count": null,
   "metadata": {
    "colab": {
     "base_uri": "https://localhost:8080/"
    },
    "id": "l3y5CvyujddC",
    "outputId": "f6eeeeef-0535-45ae-bd24-4e1b3e7877b9"
   },
   "outputs": [
    {
     "data": {
      "text/plain": [
       "(0.7890556532042947, 1203274976815.533, 767460.000721246)"
      ]
     },
     "execution_count": 45,
     "metadata": {
      "tags": []
     },
     "output_type": "execute_result"
    }
   ],
   "source": [
    "# Maximum OSR^2 among all models of 0.790 is achieved\n",
    "\n",
    "osr2_blended_5 = OSR2_no_model(blended_log_df['BlendedPrediction']**5, logy_test**5, logy_train**5)\n",
    "mse_blended_5 = MSE_no_model(blended_log_df['BlendedPrediction']**5, logy_test**5)\n",
    "mae_blended_5 = MAE_no_model(blended_log_df['BlendedPrediction']**5, logy_test**5)\n",
    "osr2_blended_5, mse_blended_5, mae_blended_5"
   ]
  },
  {
   "cell_type": "code",
   "execution_count": null,
   "metadata": {
    "colab": {
     "base_uri": "https://localhost:8080/",
     "height": 235
    },
    "id": "LmJJCseKi8r8",
    "outputId": "36f14a1d-2f2d-46fc-c294-530530ffbc90"
   },
   "outputs": [
    {
     "data": {
      "text/html": [
       "<div>\n",
       "<style scoped>\n",
       "    .dataframe tbody tr th:only-of-type {\n",
       "        vertical-align: middle;\n",
       "    }\n",
       "\n",
       "    .dataframe tbody tr th {\n",
       "        vertical-align: top;\n",
       "    }\n",
       "\n",
       "    .dataframe thead th {\n",
       "        text-align: right;\n",
       "    }\n",
       "</style>\n",
       "<table border=\"1\" class=\"dataframe\">\n",
       "  <thead>\n",
       "    <tr style=\"text-align: right;\">\n",
       "      <th></th>\n",
       "      <th>OSR2</th>\n",
       "      <th>MSE</th>\n",
       "      <th>MAE</th>\n",
       "    </tr>\n",
       "    <tr>\n",
       "      <th>Model</th>\n",
       "      <th></th>\n",
       "      <th></th>\n",
       "      <th></th>\n",
       "    </tr>\n",
       "  </thead>\n",
       "  <tbody>\n",
       "    <tr>\n",
       "      <th>LinearRegression</th>\n",
       "      <td>0.621</td>\n",
       "      <td>2.932</td>\n",
       "      <td>1.252</td>\n",
       "    </tr>\n",
       "    <tr>\n",
       "      <th>CART</th>\n",
       "      <td>0.659</td>\n",
       "      <td>2.638</td>\n",
       "      <td>1.137</td>\n",
       "    </tr>\n",
       "    <tr>\n",
       "      <th>RandomForests</th>\n",
       "      <td>0.658</td>\n",
       "      <td>2.639</td>\n",
       "      <td>1.118</td>\n",
       "    </tr>\n",
       "    <tr>\n",
       "      <th>Blended</th>\n",
       "      <td>0.720</td>\n",
       "      <td>2.167</td>\n",
       "      <td>1.003</td>\n",
       "    </tr>\n",
       "    <tr>\n",
       "      <th>Blended^5</th>\n",
       "      <td>0.789</td>\n",
       "      <td>1.203e+12</td>\n",
       "      <td>7.675e+05</td>\n",
       "    </tr>\n",
       "  </tbody>\n",
       "</table>\n",
       "</div>"
      ],
      "text/plain": [
       "                   OSR2        MSE        MAE\n",
       "Model                                        \n",
       "LinearRegression  0.621      2.932      1.252\n",
       "CART              0.659      2.638      1.137\n",
       "RandomForests     0.658      2.639      1.118\n",
       "Blended           0.720      2.167      1.003\n",
       "Blended^5         0.789  1.203e+12  7.675e+05"
      ]
     },
     "execution_count": 46,
     "metadata": {
      "tags": []
     },
     "output_type": "execute_result"
    }
   ],
   "source": [
    "# compute Blended^5 row of results table\n",
    "\n",
    "results_table = results_table.append({'OSR2': osr2_blended_5, 'MSE': \"{:.3e}\".format(mse_blended_5), 'MAE': \"{:.3e}\".format(mae_blended_5)}, ignore_index=True)\n",
    "results_table['Model'] = pd.Series(data=['LinearRegression', 'CART', 'RandomForests', 'Blended', 'Blended^5'])\n",
    "results_table = results_table.set_index('Model')\n",
    "results_table = results_table.round(3)\n",
    "results_table = results_table.drop_duplicates()\n",
    "results_table"
   ]
  }
 ],
 "metadata": {
  "colab": {
   "collapsed_sections": [],
   "name": "IEOR142Group19Project.ipynb",
   "provenance": [],
   "toc_visible": true
  },
  "kernelspec": {
   "display_name": "Python 3 (ipykernel)",
   "language": "python",
   "name": "python3"
  },
  "language_info": {
   "codemirror_mode": {
    "name": "ipython",
    "version": 3
   },
   "file_extension": ".py",
   "mimetype": "text/x-python",
   "name": "python",
   "nbconvert_exporter": "python",
   "pygments_lexer": "ipython3",
   "version": "3.10.4"
  }
 },
 "nbformat": 4,
 "nbformat_minor": 1
}
